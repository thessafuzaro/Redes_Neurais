{
  "nbformat": 4,
  "nbformat_minor": 0,
  "metadata": {
    "colab": {
      "name": "Copy of  programacao_basica_002.ipynb",
      "provenance": [],
      "authorship_tag": "ABX9TyNWPMW2v01WOWXC8UWPOXgG",
      "include_colab_link": true
    },
    "kernelspec": {
      "name": "python3",
      "display_name": "Python 3"
    }
  },
  "cells": [
    {
      "cell_type": "markdown",
      "metadata": {
        "id": "view-in-github",
        "colab_type": "text"
      },
      "source": [
        "<a href=\"https://colab.research.google.com/github/thessafuzaro/Redes_Neurais/blob/main/PROGRAMACAO_BASICA/programacao_basica_002.ipynb\" target=\"_parent\"><img src=\"https://colab.research.google.com/assets/colab-badge.svg\" alt=\"Open In Colab\"/></a>"
      ]
    },
    {
      "cell_type": "code",
      "metadata": {
        "id": "q5z8nh7cK1Bv"
      },
      "source": [
        "import numpy as np\n",
        "import matplotlib.pyplot as plt\n",
        "import pandas as pd"
      ],
      "execution_count": null,
      "outputs": []
    },
    {
      "cell_type": "code",
      "metadata": {
        "colab": {
          "base_uri": "https://localhost:8080/"
        },
        "id": "-qYxLJGSTn7D",
        "outputId": "78ccd967-8d91-4537-9a4c-0c6e6c719275"
      },
      "source": [
        "Vol = 600\n",
        "pi = np.pi  #python usar sempre ponto\n",
        "#Vol = pi*D**3/4 comentarios usa #\n",
        "D = (4*Vol/pi)**(1.0/3.0) #** significa elevado\n",
        "print('Volume = ',Vol,'m3')\n",
        "print ('Diametro = ',D,'m')"
      ],
      "execution_count": null,
      "outputs": [
        {
          "output_type": "stream",
          "text": [
            "Volume =  600 m3\n",
            "Diametro =  9.141562994681664 m\n"
          ],
          "name": "stdout"
        }
      ]
    },
    {
      "cell_type": "code",
      "metadata": {
        "colab": {
          "base_uri": "https://localhost:8080/"
        },
        "id": "bA-4S1nYXCT5",
        "outputId": "d74f3746-57c8-4a32-adfb-ad09b56aa5ed"
      },
      "source": [
        "if(D>5):\n",
        "  print('reator grande')\n",
        "else:\n",
        "    print('não é tão grande')"
      ],
      "execution_count": null,
      "outputs": [
        {
          "output_type": "stream",
          "text": [
            "reator grande\n"
          ],
          "name": "stdout"
        }
      ]
    },
    {
      "cell_type": "code",
      "metadata": {
        "id": "PzV7vOnNNYqZ"
      },
      "source": [
        "#Agora vamos discutir tipos de dados\n",
        "#Falaremos de listas, matrizes, vetores, dicionários e dataframe"
      ],
      "execution_count": null,
      "outputs": []
    },
    {
      "cell_type": "code",
      "metadata": {
        "colab": {
          "base_uri": "https://localhost:8080/",
          "height": 52
        },
        "id": "URRC3TefNnsM",
        "outputId": "f3fc4ec6-9329-4fd6-8c60-8651cd4d6639"
      },
      "source": [
        "'''\n",
        "agora vamos discutir tipos de dados\n",
        "falaremos de listas, matrizes, veotres, dicionarios e dataframe \n",
        "Essa é uma outra forma de fazer comentários \n",
        "'''"
      ],
      "execution_count": null,
      "outputs": [
        {
          "output_type": "execute_result",
          "data": {
            "application/vnd.google.colaboratory.intrinsic+json": {
              "type": "string"
            },
            "text/plain": [
              "'\\nagora vamos discutir tipos de dados\\nfalaremos de listas, matrizes, veotres, dicionarios e dataframe \\nEssa é uma outra forma de fazer comentários \\n'"
            ]
          },
          "metadata": {
            "tags": []
          },
          "execution_count": 86
        }
      ]
    },
    {
      "cell_type": "code",
      "metadata": {
        "colab": {
          "base_uri": "https://localhost:8080/"
        },
        "id": "Vwt4RbBEOFRV",
        "outputId": "40a6d8d5-e7da-4a3c-a0d4-bb8f4b70c89d"
      },
      "source": [
        "D = 9.141562994681664\n",
        "pi=np.pi\n",
        "Vol= pi*D**3/4\n",
        "print('Volume=', Vol, 'm3')"
      ],
      "execution_count": null,
      "outputs": [
        {
          "output_type": "stream",
          "text": [
            "Volume= 599.9999999999998 m3\n"
          ],
          "name": "stdout"
        }
      ]
    },
    {
      "cell_type": "code",
      "metadata": {
        "colab": {
          "base_uri": "https://localhost:8080/"
        },
        "id": "zJsYmLJsOzf0",
        "outputId": "91075bad-64f9-4e19-f4f3-2e0ad1f2a82b"
      },
      "source": [
        "Diametro = [1.0,2.0,3.0,4.0,5.0,6.0,7.0,8.0,9.0,10.0]\n",
        "Num = 10\n",
        "for i in range(Num):\n",
        "  D = Diametro[i]\n",
        "  Vol= pi*D**3/4\n",
        "  print('Volume=',Vol,'m3')"
      ],
      "execution_count": null,
      "outputs": [
        {
          "output_type": "stream",
          "text": [
            "Volume= 0.7853981633974483 m3\n",
            "Volume= 6.283185307179586 m3\n",
            "Volume= 21.205750411731103 m3\n",
            "Volume= 50.26548245743669 m3\n",
            "Volume= 98.17477042468103 m3\n",
            "Volume= 169.64600329384882 m3\n",
            "Volume= 269.3915700453248 m3\n",
            "Volume= 402.1238596594935 m3\n",
            "Volume= 572.5552611167398 m3\n",
            "Volume= 785.3981633974482 m3\n"
          ],
          "name": "stdout"
        }
      ]
    },
    {
      "cell_type": "code",
      "metadata": {
        "colab": {
          "base_uri": "https://localhost:8080/"
        },
        "id": "2sbYm8c-Q9cd",
        "outputId": "ca3da698-8762-4cd0-b16c-67c10bb0336f"
      },
      "source": [
        "Diametro = [1.0,2.0,3.0,4.0,5.0,6.0,7.0,8.0,9.0,10.0]\n",
        "Volume = []\n",
        "print (Volume)\n",
        "Num = 10\n",
        "for i in range (Num):\n",
        "  D = Diametro[i]\n",
        "  Vol= pi*D**3/4\n",
        "  Volume.append(Vol)\n",
        "print (Volume)"
      ],
      "execution_count": null,
      "outputs": [
        {
          "output_type": "stream",
          "text": [
            "[]\n",
            "[0.7853981633974483, 6.283185307179586, 21.205750411731103, 50.26548245743669, 98.17477042468103, 169.64600329384882, 269.3915700453248, 402.1238596594935, 572.5552611167398, 785.3981633974482]\n"
          ],
          "name": "stdout"
        }
      ]
    },
    {
      "cell_type": "code",
      "metadata": {
        "colab": {
          "base_uri": "https://localhost:8080/",
          "height": 282
        },
        "id": "XNxikkxVTLqr",
        "outputId": "ed55fc61-ef1f-449e-c7f6-4f8051541d92"
      },
      "source": [
        "plt.plot(Diametro,Volume)"
      ],
      "execution_count": null,
      "outputs": [
        {
          "output_type": "execute_result",
          "data": {
            "text/plain": [
              "[<matplotlib.lines.Line2D at 0x7f245da74d10>]"
            ]
          },
          "metadata": {
            "tags": []
          },
          "execution_count": 90
        },
        {
          "output_type": "display_data",
          "data": {
            "image/png": "[encoded data removed]",
            "text/plain": [
              "<Figure size 432x288 with 1 Axes>"
            ]
          },
          "metadata": {
            "tags": [],
            "needs_background": "light"
          }
        }
      ]
    },
    {
      "cell_type": "code",
      "metadata": {
        "colab": {
          "base_uri": "https://localhost:8080/",
          "height": 282
        },
        "id": "l7jqoE5NToRj",
        "outputId": "5c44c9ad-b934-4b0c-eb58-91a2e8b006c2"
      },
      "source": [
        "Diametro = [1.0,2.0,3.0,4.0,5.0,6.0,7.0,8.0,9.0,10.0]\n",
        "Volume_Novo = []\n",
        "pi = np.pi\n",
        "for D in Diametro:\n",
        "  Volume_Novo.append(pi*D**3/4)\n",
        "plt.plot(Diametro,Volume_Novo)"
      ],
      "execution_count": null,
      "outputs": [
        {
          "output_type": "execute_result",
          "data": {
            "text/plain": [
              "[<matplotlib.lines.Line2D at 0x7f245d9e3ad0>]"
            ]
          },
          "metadata": {
            "tags": []
          },
          "execution_count": 91
        },
        {
          "output_type": "display_data",
          "data": {
            "image/png": "[encoded data removed]",
            "text/plain": [
              "<Figure size 432x288 with 1 Axes>"
            ]
          },
          "metadata": {
            "tags": [],
            "needs_background": "light"
          }
        }
      ]
    },
    {
      "cell_type": "code",
      "metadata": {
        "colab": {
          "base_uri": "https://localhost:8080/"
        },
        "id": "K9UUOCdSUegB",
        "outputId": "40804f53-73a5-4397-847b-6ea8b40d6d3b"
      },
      "source": [
        "#Dicionario - programação orientada objeto em que o objeto sao as variaveis\n",
        "# A diferença é que lista esta entre [] e dicionário entre {}\n",
        "variaveis = {'Diametro': Diametro,'Volume': Volume}\n",
        "print(variaveis)"
      ],
      "execution_count": null,
      "outputs": [
        {
          "output_type": "stream",
          "text": [
            "{'Diametro': [1.0, 2.0, 3.0, 4.0, 5.0, 6.0, 7.0, 8.0, 9.0, 10.0], 'Volume': [0.7853981633974483, 6.283185307179586, 21.205750411731103, 50.26548245743669, 98.17477042468103, 169.64600329384882, 269.3915700453248, 402.1238596594935, 572.5552611167398, 785.3981633974482]}\n"
          ],
          "name": "stdout"
        }
      ]
    },
    {
      "cell_type": "code",
      "metadata": {
        "colab": {
          "base_uri": "https://localhost:8080/"
        },
        "id": "O_lDISJKV3pe",
        "outputId": "119459a7-783b-43ea-996b-d18cd8d4bf8c"
      },
      "source": [
        "df = pd.DataFrame(variaveis)\n",
        "print(df)"
      ],
      "execution_count": null,
      "outputs": [
        {
          "output_type": "stream",
          "text": [
            "   Diametro      Volume\n",
            "0       1.0    0.785398\n",
            "1       2.0    6.283185\n",
            "2       3.0   21.205750\n",
            "3       4.0   50.265482\n",
            "4       5.0   98.174770\n",
            "5       6.0  169.646003\n",
            "6       7.0  269.391570\n",
            "7       8.0  402.123860\n",
            "8       9.0  572.555261\n",
            "9      10.0  785.398163\n"
          ],
          "name": "stdout"
        }
      ]
    },
    {
      "cell_type": "code",
      "metadata": {
        "colab": {
          "base_uri": "https://localhost:8080/",
          "height": 111
        },
        "id": "e3kWp2hqW3Aa",
        "outputId": "74348290-88fb-408a-c996-6ac7fb2edcb1"
      },
      "source": [
        "df.head(2)"
      ],
      "execution_count": null,
      "outputs": [
        {
          "output_type": "execute_result",
          "data": {
            "text/html": [
              "<div>\n",
              "<style scoped>\n",
              "    .dataframe tbody tr th:only-of-type {\n",
              "        vertical-align: middle;\n",
              "    }\n",
              "\n",
              "    .dataframe tbody tr th {\n",
              "        vertical-align: top;\n",
              "    }\n",
              "\n",
              "    .dataframe thead th {\n",
              "        text-align: right;\n",
              "    }\n",
              "</style>\n",
              "<table border=\"1\" class=\"dataframe\">\n",
              "  <thead>\n",
              "    <tr style=\"text-align: right;\">\n",
              "      <th></th>\n",
              "      <th>Diametro</th>\n",
              "      <th>Volume</th>\n",
              "    </tr>\n",
              "  </thead>\n",
              "  <tbody>\n",
              "    <tr>\n",
              "      <th>0</th>\n",
              "      <td>1.0</td>\n",
              "      <td>0.785398</td>\n",
              "    </tr>\n",
              "    <tr>\n",
              "      <th>1</th>\n",
              "      <td>2.0</td>\n",
              "      <td>6.283185</td>\n",
              "    </tr>\n",
              "  </tbody>\n",
              "</table>\n",
              "</div>"
            ],
            "text/plain": [
              "   Diametro    Volume\n",
              "0       1.0  0.785398\n",
              "1       2.0  6.283185"
            ]
          },
          "metadata": {
            "tags": []
          },
          "execution_count": 98
        }
      ]
    },
    {
      "cell_type": "code",
      "metadata": {
        "colab": {
          "base_uri": "https://localhost:8080/",
          "height": 111
        },
        "id": "JHZ7Pm-FXKLZ",
        "outputId": "5ac175c1-91cf-4e35-ef18-8911f5354a9d"
      },
      "source": [
        "df.tail(2)"
      ],
      "execution_count": null,
      "outputs": [
        {
          "output_type": "execute_result",
          "data": {
            "text/html": [
              "<div>\n",
              "<style scoped>\n",
              "    .dataframe tbody tr th:only-of-type {\n",
              "        vertical-align: middle;\n",
              "    }\n",
              "\n",
              "    .dataframe tbody tr th {\n",
              "        vertical-align: top;\n",
              "    }\n",
              "\n",
              "    .dataframe thead th {\n",
              "        text-align: right;\n",
              "    }\n",
              "</style>\n",
              "<table border=\"1\" class=\"dataframe\">\n",
              "  <thead>\n",
              "    <tr style=\"text-align: right;\">\n",
              "      <th></th>\n",
              "      <th>Diametro</th>\n",
              "      <th>Volume</th>\n",
              "    </tr>\n",
              "  </thead>\n",
              "  <tbody>\n",
              "    <tr>\n",
              "      <th>8</th>\n",
              "      <td>9.0</td>\n",
              "      <td>572.555261</td>\n",
              "    </tr>\n",
              "    <tr>\n",
              "      <th>9</th>\n",
              "      <td>10.0</td>\n",
              "      <td>785.398163</td>\n",
              "    </tr>\n",
              "  </tbody>\n",
              "</table>\n",
              "</div>"
            ],
            "text/plain": [
              "   Diametro      Volume\n",
              "8       9.0  572.555261\n",
              "9      10.0  785.398163"
            ]
          },
          "metadata": {
            "tags": []
          },
          "execution_count": 99
        }
      ]
    },
    {
      "cell_type": "code",
      "metadata": {
        "id": "-_jsPOo_XYXF"
      },
      "source": [
        ""
      ],
      "execution_count": null,
      "outputs": []
    },
    {
      "cell_type": "code",
      "metadata": {
        "colab": {
          "base_uri": "https://localhost:8080/"
        },
        "id": "4KoZWEIZXYYZ",
        "outputId": "b7a2ff16-7f80-4aaa-8ba4-498e032b26e2"
      },
      "source": [
        "dados=np.array(df)\n",
        "print(dados)"
      ],
      "execution_count": null,
      "outputs": [
        {
          "output_type": "stream",
          "text": [
            "[[  1.           0.78539816]\n",
            " [  2.           6.28318531]\n",
            " [  3.          21.20575041]\n",
            " [  4.          50.26548246]\n",
            " [  5.          98.17477042]\n",
            " [  6.         169.64600329]\n",
            " [  7.         269.39157005]\n",
            " [  8.         402.12385966]\n",
            " [  9.         572.55526112]\n",
            " [ 10.         785.3981634 ]]\n"
          ],
          "name": "stdout"
        }
      ]
    }
  ]
}