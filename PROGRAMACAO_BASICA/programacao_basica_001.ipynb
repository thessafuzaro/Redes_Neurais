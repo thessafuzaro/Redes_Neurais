{
  "nbformat": 4,
  "nbformat_minor": 0,
  "metadata": {
    "colab": {
      "name": "programacao_basica_001.ipynb",
      "provenance": [],
      "authorship_tag": "ABX9TyNV4+Afirjlq01ZV8xy8MXS",
      "include_colab_link": true
    },
    "kernelspec": {
      "name": "python3",
      "display_name": "Python 3"
    }
  },
  "cells": [
    {
      "cell_type": "markdown",
      "metadata": {
        "id": "view-in-github",
        "colab_type": "text"
      },
      "source": [
        "<a href=\"https://colab.research.google.com/github/thessafuzaro/Redes_Neurais/blob/main/PROGRAMACAO_BASICA/programacao_basica_001.ipynb\" target=\"_parent\"><img src=\"https://colab.research.google.com/assets/colab-badge.svg\" alt=\"Open In Colab\"/></a>"
      ]
    },
    {
      "cell_type": "code",
      "metadata": {
        "colab": {
          "base_uri": "https://localhost:8080/"
        },
        "id": "-qYxLJGSTn7D",
        "outputId": "d1936a54-94e9-4f73-e7fd-dd8de6d847ea"
      },
      "source": [
        "Vol = 600\n",
        "pi = np.pi  #python usar sempre ponto\n",
        "#Vol = pi*D**3/4 comentarios usa #\n",
        "D = (4*Vol/pi)**(1.0/3.0) #** significa elevado\n",
        "print('Volume = ',Vol,'m3')\n",
        "print ('Diametro = ',D,'m')"
      ],
      "execution_count": null,
      "outputs": [
        {
          "output_type": "stream",
          "text": [
            "Volume =  600 m3\n",
            "Diametro =  9.14165286579429 m\n"
          ],
          "name": "stdout"
        }
      ]
    },
    {
      "cell_type": "code",
      "metadata": {
        "colab": {
          "base_uri": "https://localhost:8080/"
        },
        "id": "bA-4S1nYXCT5",
        "outputId": "e6476df4-d33c-4cab-b506-2f437ddc8208"
      },
      "source": [
        "if(D>5):\n",
        "  print('reator grande')\n",
        "else:\n",
        "    print('não é tão grande')"
      ],
      "execution_count": null,
      "outputs": [
        {
          "output_type": "stream",
          "text": [
            "reator grande\n"
          ],
          "name": "stdout"
        }
      ]
    }
  ]
}