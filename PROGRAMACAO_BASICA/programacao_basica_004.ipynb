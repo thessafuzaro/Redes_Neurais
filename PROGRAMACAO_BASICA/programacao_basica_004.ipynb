{
  "nbformat": 4,
  "nbformat_minor": 0,
  "metadata": {
    "colab": {
      "name": "programacao_basica_004.ipynb",
      "provenance": [],
      "collapsed_sections": [],
      "include_colab_link": true
    },
    "kernelspec": {
      "name": "python3",
      "display_name": "Python 3"
    },
    "language_info": {
      "name": "python"
    }
  },
  "cells": [
    {
      "cell_type": "markdown",
      "metadata": {
        "id": "view-in-github",
        "colab_type": "text"
      },
      "source": [
        "<a href=\"https://colab.research.google.com/github/thessafuzaro/Redes_Neurais/blob/main/PROGRAMACAO_BASICA/programacao_basica_004.ipynb\" target=\"_parent\"><img src=\"https://colab.research.google.com/assets/colab-badge.svg\" alt=\"Open In Colab\"/></a>"
      ]
    },
    {
      "cell_type": "code",
      "metadata": {
        "id": "eJ1yEDvgZBa0"
      },
      "source": [
        "import numpy as np  # Usa o numpy por conta do numero pi\n",
        "import pandas as pd   #pandas gera o dataframe que gera o arquivo"
      ],
      "execution_count": 4,
      "outputs": []
    },
    {
      "cell_type": "code",
      "metadata": {
        "id": "s4wQl4NiX70p",
        "colab": {
          "base_uri": "https://localhost:8080/"
        },
        "outputId": "4bdba6ce-7cf8-40f3-fc73-2e44a31863d3"
      },
      "source": [
        "!git clone https://github.com/thessafuzaro/Redes_Neurais   # para importar a funçao que esta dentro do github\n",
        "%cd Redes_Neurais"
      ],
      "execution_count": 5,
      "outputs": [
        {
          "output_type": "stream",
          "text": [
            "Cloning into 'Redes_Neurais'...\n",
            "remote: Enumerating objects: 52, done.\u001b[K\n",
            "remote: Counting objects: 100% (52/52), done.\u001b[K\n",
            "remote: Compressing objects: 100% (50/50), done.\u001b[K\n",
            "remote: Total 52 (delta 22), reused 0 (delta 0), pack-reused 0\u001b[K\n",
            "Unpacking objects: 100% (52/52), done.\n",
            "/content/Redes_Neurais/Redes_Neurais\n"
          ],
          "name": "stdout"
        }
      ]
    },
    {
      "cell_type": "code",
      "metadata": {
        "id": "aF9wLyFdizeo",
        "colab": {
          "base_uri": "https://localhost:8080/",
          "height": 299
        },
        "outputId": "81463b4f-5c0b-4832-f93d-5cb3d8e652cd"
      },
      "source": [
        "from Volume import Vol"
      ],
      "execution_count": 9,
      "outputs": [
        {
          "output_type": "error",
          "ename": "ModuleNotFoundError",
          "evalue": "ignored",
          "traceback": [
            "\u001b[0;31m---------------------------------------------------------------------------\u001b[0m",
            "\u001b[0;31mModuleNotFoundError\u001b[0m                       Traceback (most recent call last)",
            "\u001b[0;32m<ipython-input-9-7599fcb2c445>\u001b[0m in \u001b[0;36m<module>\u001b[0;34m()\u001b[0m\n\u001b[0;32m----> 1\u001b[0;31m \u001b[0;32mfrom\u001b[0m \u001b[0mVolume\u001b[0m \u001b[0;32mimport\u001b[0m \u001b[0mVol\u001b[0m\u001b[0;34m\u001b[0m\u001b[0;34m\u001b[0m\u001b[0m\n\u001b[0m",
            "\u001b[0;31mModuleNotFoundError\u001b[0m: No module named 'Volume'",
            "",
            "\u001b[0;31m---------------------------------------------------------------------------\u001b[0;32m\nNOTE: If your import is failing due to a missing package, you can\nmanually install dependencies using either !pip or !apt.\n\nTo view examples of installing some common dependencies, click the\n\"Open Examples\" button below.\n\u001b[0;31m---------------------------------------------------------------------------\u001b[0m\n"
          ]
        }
      ]
    },
    {
      "cell_type": "code",
      "metadata": {
        "colab": {
          "base_uri": "https://localhost:8080/"
        },
        "id": "HibxC2I-Q1XP",
        "outputId": "c0216605-755e-4dd6-8515-6e6d5dac1030"
      },
      "source": [
        "!ls"
      ],
      "execution_count": 8,
      "outputs": [
        {
          "output_type": "stream",
          "text": [
            "ANN_Hydrofoil_abril_07_2021.ipynb\t  programacao_basica_003_b.ipynb\n",
            "Cópia_de_ANN_Hydrofoil_mar_31_2021.ipynb  programacao_basica_004.ipynb\n",
            "PROGRAMACAO_BASICA\t\t\t  README.md\n"
          ],
          "name": "stdout"
        }
      ]
    },
    {
      "cell_type": "code",
      "metadata": {
        "id": "vTvWkxakYsSE"
      },
      "source": [
        "Diam = [2,4,6,8,10]\n",
        "Valores_Vol = Vol(Diam)\n",
        "print(Valores_Vol)"
      ],
      "execution_count": null,
      "outputs": []
    },
    {
      "cell_type": "code",
      "metadata": {
        "id": "CtsqH4Pzb_S-"
      },
      "source": [
        "df = pd.DataFrame({'Diametro':Diam, 'Volume':Valores_Vol})\n",
        "Arq = \"output.xlsx\"\n",
        "df.to_excel(Arq)\n",
        "from google.colab import files\n",
        "files.download(Arq)"
      ],
      "execution_count": null,
      "outputs": []
    }
  ]
}