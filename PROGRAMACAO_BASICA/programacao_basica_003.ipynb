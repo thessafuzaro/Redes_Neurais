{
  "nbformat": 4,
  "nbformat_minor": 0,
  "metadata": {
    "colab": {
      "name": "programacao_basica_003.ipynb",
      "provenance": [],
      "collapsed_sections": [],
      "include_colab_link": true
    },
    "kernelspec": {
      "name": "python3",
      "display_name": "Python 3"
    },
    "language_info": {
      "name": "python"
    }
  },
  "cells": [
    {
      "cell_type": "markdown",
      "metadata": {
        "id": "view-in-github",
        "colab_type": "text"
      },
      "source": [
        "<a href=\"https://colab.research.google.com/github/thessafuzaro/Redes_Neurais/blob/main/PROGRAMACAO_BASICA/programacao_basica_003.ipynb\" target=\"_parent\"><img src=\"https://colab.research.google.com/assets/colab-badge.svg\" alt=\"Open In Colab\"/></a>"
      ]
    },
    {
      "cell_type": "code",
      "metadata": {
        "id": "eJ1yEDvgZBa0"
      },
      "source": [
        "import numpy as np\n"
      ],
      "execution_count": null,
      "outputs": []
    },
    {
      "cell_type": "code",
      "metadata": {
        "id": "s4wQl4NiX70p"
      },
      "source": [
        "def Vol(x):\n",
        "  Volume =[] \n",
        "  for d in x:\n",
        "    Volume.append(np.pi*d**3/4)\n",
        "  return Volume\n"
      ],
      "execution_count": null,
      "outputs": []
    },
    {
      "cell_type": "code",
      "metadata": {
        "colab": {
          "base_uri": "https://localhost:8080/"
        },
        "id": "vTvWkxakYsSE",
        "outputId": "2a88aa16-c9ae-4491-ebdf-e0bf5100d905"
      },
      "source": [
        "Diam = [2,4,6,8,10]\n",
        "Volume = Vol(Diam)\n",
        "print(Volume)"
      ],
      "execution_count": null,
      "outputs": [
        {
          "output_type": "stream",
          "text": [
            "[6.283185307179586, 50.26548245743669, 169.64600329384882, 402.1238596594935, 785.3981633974482]\n"
          ],
          "name": "stdout"
        }
      ]
    }
  ]
}