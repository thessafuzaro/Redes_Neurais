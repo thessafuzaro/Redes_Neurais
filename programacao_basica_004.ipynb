{
  "nbformat": 4,
  "nbformat_minor": 0,
  "metadata": {
    "colab": {
      "name": "programacao_basica_004.ipynb",
      "provenance": [],
      "collapsed_sections": [],
      "include_colab_link": true
    },
    "kernelspec": {
      "name": "python3",
      "display_name": "Python 3"
    },
    "language_info": {
      "name": "python"
    }
  },
  "cells": [
    {
      "cell_type": "markdown",
      "metadata": {
        "id": "view-in-github",
        "colab_type": "text"
      },
      "source": [
        "<a href=\"https://colab.research.google.com/github/thessafuzaro/Redes_Neurais/blob/main/programacao_basica_004.ipynb\" target=\"_parent\"><img src=\"https://colab.research.google.com/assets/colab-badge.svg\" alt=\"Open In Colab\"/></a>"
      ]
    },
    {
      "cell_type": "code",
      "metadata": {
        "id": "eJ1yEDvgZBa0"
      },
      "source": [
        "import numpy as np  # Usa o numpy por conta do numero pi\n",
        "import pandas as pd   #pandas gera o dataframe que gera o arquivo"
      ],
      "execution_count": 40,
      "outputs": []
    },
    {
      "cell_type": "code",
      "metadata": {
        "id": "s4wQl4NiX70p",
        "colab": {
          "base_uri": "https://localhost:8080/"
        },
        "outputId": "428073fc-3a73-4dbe-f0c0-6fea093ec517"
      },
      "source": [
        "!git clone https://github.com/thessafuzaro/Redes_Neurais   # para importar a funçao que esta dentro do github\n",
        "%cd Redes_Neurais/PROGRAMACAO_BASICA"
      ],
      "execution_count": 41,
      "outputs": [
        {
          "output_type": "stream",
          "text": [
            "Cloning into 'Redes_Neurais'...\n",
            "remote: Enumerating objects: 49, done.\u001b[K\n",
            "remote: Counting objects:   2% (1/49)\u001b[K\rremote: Counting objects:   4% (2/49)\u001b[K\rremote: Counting objects:   6% (3/49)\u001b[K\rremote: Counting objects:   8% (4/49)\u001b[K\rremote: Counting objects:  10% (5/49)\u001b[K\rremote: Counting objects:  12% (6/49)\u001b[K\rremote: Counting objects:  14% (7/49)\u001b[K\rremote: Counting objects:  16% (8/49)\u001b[K\rremote: Counting objects:  18% (9/49)\u001b[K\rremote: Counting objects:  20% (10/49)\u001b[K\rremote: Counting objects:  22% (11/49)\u001b[K\rremote: Counting objects:  24% (12/49)\u001b[K\rremote: Counting objects:  26% (13/49)\u001b[K\rremote: Counting objects:  28% (14/49)\u001b[K\rremote: Counting objects:  30% (15/49)\u001b[K\rremote: Counting objects:  32% (16/49)\u001b[K\rremote: Counting objects:  34% (17/49)\u001b[K\rremote: Counting objects:  36% (18/49)\u001b[K\rremote: Counting objects:  38% (19/49)\u001b[K\rremote: Counting objects:  40% (20/49)\u001b[K\rremote: Counting objects:  42% (21/49)\u001b[K\rremote: Counting objects:  44% (22/49)\u001b[K\rremote: Counting objects:  46% (23/49)\u001b[K\rremote: Counting objects:  48% (24/49)\u001b[K\rremote: Counting objects:  51% (25/49)\u001b[K\rremote: Counting objects:  53% (26/49)\u001b[K\rremote: Counting objects:  55% (27/49)\u001b[K\rremote: Counting objects:  57% (28/49)\u001b[K\rremote: Counting objects:  59% (29/49)\u001b[K\rremote: Counting objects:  61% (30/49)\u001b[K\rremote: Counting objects:  63% (31/49)\u001b[K\rremote: Counting objects:  65% (32/49)\u001b[K\rremote: Counting objects:  67% (33/49)\u001b[K\rremote: Counting objects:  69% (34/49)\u001b[K\rremote: Counting objects:  71% (35/49)\u001b[K\rremote: Counting objects:  73% (36/49)\u001b[K\rremote: Counting objects:  75% (37/49)\u001b[K\rremote: Counting objects:  77% (38/49)\u001b[K\rremote: Counting objects:  79% (39/49)\u001b[K\rremote: Counting objects:  81% (40/49)\u001b[K\rremote: Counting objects:  83% (41/49)\u001b[K\rremote: Counting objects:  85% (42/49)\u001b[K\rremote: Counting objects:  87% (43/49)\u001b[K\rremote: Counting objects:  89% (44/49)\u001b[K\rremote: Counting objects:  91% (45/49)\u001b[K\rremote: Counting objects:  93% (46/49)\u001b[K\rremote: Counting objects:  95% (47/49)\u001b[K\rremote: Counting objects:  97% (48/49)\u001b[K\rremote: Counting objects: 100% (49/49)\u001b[K\rremote: Counting objects: 100% (49/49), done.\u001b[K\n",
            "remote: Compressing objects:   2% (1/47)\u001b[K\rremote: Compressing objects:   4% (2/47)\u001b[K\rremote: Compressing objects:   6% (3/47)\u001b[K\rremote: Compressing objects:   8% (4/47)\u001b[K\rremote: Compressing objects:  10% (5/47)\u001b[K\rremote: Compressing objects:  12% (6/47)\u001b[K\rremote: Compressing objects:  14% (7/47)\u001b[K\rremote: Compressing objects:  17% (8/47)\u001b[K\rremote: Compressing objects:  19% (9/47)\u001b[K\rremote: Compressing objects:  21% (10/47)\u001b[K\rremote: Compressing objects:  23% (11/47)\u001b[K\rremote: Compressing objects:  25% (12/47)\u001b[K\rremote: Compressing objects:  27% (13/47)\u001b[K\rremote: Compressing objects:  29% (14/47)\u001b[K\rremote: Compressing objects:  31% (15/47)\u001b[K\rremote: Compressing objects:  34% (16/47)\u001b[K\rremote: Compressing objects:  36% (17/47)\u001b[K\rremote: Compressing objects:  38% (18/47)\u001b[K\rremote: Compressing objects:  40% (19/47)\u001b[K\rremote: Compressing objects:  42% (20/47)\u001b[K\rremote: Compressing objects:  44% (21/47)\u001b[K\rremote: Compressing objects:  46% (22/47)\u001b[K\rremote: Compressing objects:  48% (23/47)\u001b[K\rremote: Compressing objects:  51% (24/47)\u001b[K\rremote: Compressing objects:  53% (25/47)\u001b[K\rremote: Compressing objects:  55% (26/47)\u001b[K\rremote: Compressing objects:  57% (27/47)\u001b[K\rremote: Compressing objects:  59% (28/47)\u001b[K\rremote: Compressing objects:  61% (29/47)\u001b[K\rremote: Compressing objects:  63% (30/47)\u001b[K\rremote: Compressing objects:  65% (31/47)\u001b[K\rremote: Compressing objects:  68% (32/47)\u001b[K\rremote: Compressing objects:  70% (33/47)\u001b[K\rremote: Compressing objects:  72% (34/47)\u001b[K\rremote: Compressing objects:  74% (35/47)\u001b[K\rremote: Compressing objects:  76% (36/47)\u001b[K\rremote: Compressing objects:  78% (37/47)\u001b[K\rremote: Compressing objects:  80% (38/47)\u001b[K\rremote: Compressing objects:  82% (39/47)\u001b[K\rremote: Compressing objects:  85% (40/47)\u001b[K\rremote: Compressing objects:  87% (41/47)\u001b[K\rremote: Compressing objects:  89% (42/47)\u001b[K\rremote: Compressing objects:  91% (43/47)\u001b[K\rremote: Compressing objects:  93% (44/47)\u001b[K\rremote: Compressing objects:  95% (45/47)\u001b[K\rremote: Compressing objects:  97% (46/47)\u001b[K\rremote: Compressing objects: 100% (47/47)\u001b[K\rremote: Compressing objects: 100% (47/47), done.\u001b[K\n",
            "Unpacking objects:   2% (1/49)   \rUnpacking objects:   4% (2/49)   \rUnpacking objects:   6% (3/49)   \rUnpacking objects:   8% (4/49)   \rUnpacking objects:  10% (5/49)   \rUnpacking objects:  12% (6/49)   \rUnpacking objects:  14% (7/49)   \rUnpacking objects:  16% (8/49)   \rUnpacking objects:  18% (9/49)   \rUnpacking objects:  20% (10/49)   \rUnpacking objects:  22% (11/49)   \rUnpacking objects:  24% (12/49)   \rUnpacking objects:  26% (13/49)   \rUnpacking objects:  28% (14/49)   \rUnpacking objects:  30% (15/49)   \rUnpacking objects:  32% (16/49)   \rUnpacking objects:  34% (17/49)   \rUnpacking objects:  36% (18/49)   \rremote: Total 49 (delta 20), reused 0 (delta 0), pack-reused 0\u001b[K\n",
            "Unpacking objects:  38% (19/49)   \rUnpacking objects:  40% (20/49)   \rUnpacking objects:  42% (21/49)   \rUnpacking objects:  44% (22/49)   \rUnpacking objects:  46% (23/49)   \rUnpacking objects:  48% (24/49)   \rUnpacking objects:  51% (25/49)   \rUnpacking objects:  53% (26/49)   \rUnpacking objects:  55% (27/49)   \rUnpacking objects:  57% (28/49)   \rUnpacking objects:  59% (29/49)   \rUnpacking objects:  61% (30/49)   \rUnpacking objects:  63% (31/49)   \rUnpacking objects:  65% (32/49)   \rUnpacking objects:  67% (33/49)   \rUnpacking objects:  69% (34/49)   \rUnpacking objects:  71% (35/49)   \rUnpacking objects:  73% (36/49)   \rUnpacking objects:  75% (37/49)   \rUnpacking objects:  77% (38/49)   \rUnpacking objects:  79% (39/49)   \rUnpacking objects:  81% (40/49)   \rUnpacking objects:  83% (41/49)   \rUnpacking objects:  85% (42/49)   \rUnpacking objects:  87% (43/49)   \rUnpacking objects:  89% (44/49)   \rUnpacking objects:  91% (45/49)   \rUnpacking objects:  93% (46/49)   \rUnpacking objects:  95% (47/49)   \rUnpacking objects:  97% (48/49)   \rUnpacking objects: 100% (49/49)   \rUnpacking objects: 100% (49/49), done.\n",
            "/content/Redes_Neurais/PROGRAMACAO_BASICA/Redes_Neurais/PROGRAMACAO_BASICA/Redes_Neurais/PROGRAMACAO_BASICA/Redes_Neurais/PROGRAMACAO_BASICA/Redes_Neurais/PROGRAMACAO_BASICA/Redes_Neurais/PROGRAMACAO_BASICA/Redes_Neurais/PROGRAMACAO_BASICA/Redes_Neurais/PROGRAMACAO_BASICA\n"
          ],
          "name": "stdout"
        }
      ]
    },
    {
      "cell_type": "code",
      "metadata": {
        "id": "aF9wLyFdizeo"
      },
      "source": [
        "from Volume import Vol"
      ],
      "execution_count": 44,
      "outputs": []
    },
    {
      "cell_type": "code",
      "metadata": {
        "colab": {
          "base_uri": "https://localhost:8080/",
          "height": 299
        },
        "id": "vTvWkxakYsSE",
        "outputId": "ae2604b4-9ec3-421f-8fa7-4e4ef2ac3f2b"
      },
      "source": [
        "Diam = [2,4,6,8,10]\n",
        "Valores_Vol = Vol(Diam)\n",
        "print(Valores_Vol)"
      ],
      "execution_count": 43,
      "outputs": [
        {
          "output_type": "error",
          "ename": "NameError",
          "evalue": "ignored",
          "traceback": [
            "\u001b[0;31m---------------------------------------------------------------------------\u001b[0m",
            "\u001b[0;31mNameError\u001b[0m                                 Traceback (most recent call last)",
            "\u001b[0;32m<ipython-input-43-57e06df5f5e5>\u001b[0m in \u001b[0;36m<module>\u001b[0;34m()\u001b[0m\n\u001b[1;32m      1\u001b[0m \u001b[0mDiam\u001b[0m \u001b[0;34m=\u001b[0m \u001b[0;34m[\u001b[0m\u001b[0;36m2\u001b[0m\u001b[0;34m,\u001b[0m\u001b[0;36m4\u001b[0m\u001b[0;34m,\u001b[0m\u001b[0;36m6\u001b[0m\u001b[0;34m,\u001b[0m\u001b[0;36m8\u001b[0m\u001b[0;34m,\u001b[0m\u001b[0;36m10\u001b[0m\u001b[0;34m]\u001b[0m\u001b[0;34m\u001b[0m\u001b[0;34m\u001b[0m\u001b[0m\n\u001b[0;32m----> 2\u001b[0;31m \u001b[0mValores_Vol\u001b[0m \u001b[0;34m=\u001b[0m \u001b[0mVol\u001b[0m\u001b[0;34m(\u001b[0m\u001b[0mDiam\u001b[0m\u001b[0;34m)\u001b[0m\u001b[0;34m\u001b[0m\u001b[0;34m\u001b[0m\u001b[0m\n\u001b[0m\u001b[1;32m      3\u001b[0m \u001b[0mprint\u001b[0m\u001b[0;34m(\u001b[0m\u001b[0mValores_Vol\u001b[0m\u001b[0;34m)\u001b[0m\u001b[0;34m\u001b[0m\u001b[0;34m\u001b[0m\u001b[0m\n",
            "\u001b[0;32m/content/Redes_Neurais/PROGRAMACAO_BASICA/Volume.py\u001b[0m in \u001b[0;36mVol\u001b[0;34m(x)\u001b[0m\n\u001b[1;32m      2\u001b[0m   \u001b[0mVolume\u001b[0m \u001b[0;34m=\u001b[0m\u001b[0;34m[\u001b[0m\u001b[0;34m]\u001b[0m\u001b[0;34m\u001b[0m\u001b[0;34m\u001b[0m\u001b[0m\n\u001b[1;32m      3\u001b[0m   \u001b[0;32mfor\u001b[0m \u001b[0md\u001b[0m \u001b[0;32min\u001b[0m \u001b[0mx\u001b[0m\u001b[0;34m:\u001b[0m\u001b[0;34m\u001b[0m\u001b[0;34m\u001b[0m\u001b[0m\n\u001b[0;32m----> 4\u001b[0;31m     \u001b[0mVolume\u001b[0m\u001b[0;34m.\u001b[0m\u001b[0mappend\u001b[0m\u001b[0;34m(\u001b[0m\u001b[0mnp\u001b[0m\u001b[0;34m.\u001b[0m\u001b[0mpi\u001b[0m\u001b[0;34m*\u001b[0m\u001b[0md\u001b[0m\u001b[0;34m**\u001b[0m\u001b[0;36m3\u001b[0m\u001b[0;34m/\u001b[0m\u001b[0;36m4\u001b[0m\u001b[0;34m)\u001b[0m\u001b[0;34m\u001b[0m\u001b[0;34m\u001b[0m\u001b[0m\n\u001b[0m\u001b[1;32m      5\u001b[0m   \u001b[0;32mreturn\u001b[0m \u001b[0mVolume\u001b[0m\u001b[0;34m\u001b[0m\u001b[0;34m\u001b[0m\u001b[0m\n",
            "\u001b[0;31mNameError\u001b[0m: name 'np' is not defined"
          ]
        }
      ]
    },
    {
      "cell_type": "code",
      "metadata": {
        "id": "CtsqH4Pzb_S-"
      },
      "source": [
        "df = pd.DataFrame({'Diametro':Diam, 'Volume':Valores_Vol})\n",
        "Arq = \"output.xlsx\"\n",
        "df.to_excel(Arq)\n",
        "from google.colab import files\n",
        "files.download(Arq)"
      ],
      "execution_count": null,
      "outputs": []
    }
  ]
}