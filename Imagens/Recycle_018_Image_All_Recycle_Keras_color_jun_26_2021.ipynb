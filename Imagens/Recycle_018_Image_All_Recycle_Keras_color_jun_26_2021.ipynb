{
  "nbformat": 4,
  "nbformat_minor": 0,
  "metadata": {
    "colab": {
      "name": "Recycle_018_Image_All_Recycle_Keras_color_jun_26_2021.ipynb",
      "provenance": [],
      "include_colab_link": true
    },
    "kernelspec": {
      "name": "python3",
      "display_name": "Python 3"
    },
    "language_info": {
      "name": "python"
    },
    "accelerator": "GPU"
  },
  "cells": [
    {
      "cell_type": "markdown",
      "metadata": {
        "id": "view-in-github",
        "colab_type": "text"
      },
      "source": [
        "<a href=\"https://colab.research.google.com/github/thessafuzaro/Redes_Neurais/blob/main/Imagens/Recycle_018_Image_All_Recycle_Keras_color_jun_26_2021.ipynb\" target=\"_parent\"><img src=\"https://colab.research.google.com/assets/colab-badge.svg\" alt=\"Open In Colab\"/></a>"
      ]
    },
    {
      "cell_type": "code",
      "metadata": {
        "id": "VumF8Fkd4B2M"
      },
      "source": [
        "from matplotlib import pyplot as plt\n",
        "import numpy as np\n",
        "import pandas as pd\n",
        "import cv2\n",
        "import random\n",
        "import zipfile\n",
        "from sklearn.model_selection import train_test_split"
      ],
      "execution_count": null,
      "outputs": []
    },
    {
      "cell_type": "code",
      "metadata": {
        "id": "zOTOrIF25-ru"
      },
      "source": [
        "from keras.models import Sequential\n",
        "from keras.layers import Dense, Activation, Conv2D, MaxPooling2D, Flatten, Dropout, BatchNormalization"
      ],
      "execution_count": null,
      "outputs": []
    },
    {
      "cell_type": "code",
      "metadata": {
        "colab": {
          "base_uri": "https://localhost:8080/"
        },
        "id": "G6zkIELM4FGk",
        "outputId": "a6dd1c2e-6ebc-4e90-dffe-28ce38acf4d3"
      },
      "source": [
        "!git clone https://github.com/ucfilho/ANN_2021_01/\n",
        "%cd ANN_2021_01"
      ],
      "execution_count": null,
      "outputs": [
        {
          "output_type": "stream",
          "text": [
            "fatal: destination path 'ANN_2021_01' already exists and is not an empty directory.\n",
            "/content/ANN_2021_01\n"
          ],
          "name": "stdout"
        }
      ]
    },
    {
      "cell_type": "code",
      "metadata": {
        "id": "dsF7ONnt6E3N"
      },
      "source": [
        "def ynindicator(Y):\n",
        "  N = len(Y)\n",
        "  K = len(set(Y))\n",
        "  I = np.zeros((N, K))\n",
        "  I[np.arange(N), Y] = 1\n",
        "  return I"
      ],
      "execution_count": null,
      "outputs": []
    },
    {
      "cell_type": "code",
      "metadata": {
        "id": "PgVpmRi7mRlb"
      },
      "source": [
        "# all images are load in variable x...\n",
        "Arq =['cardboard.zip','glass.zip','metal.zip','not_recycle.zip',\n",
        "      'paper.zip','plastic.zip']\n",
        "\n",
        "img_name=[]\n",
        "x_gray=[]\n",
        "x_original = []\n",
        "for FILE in Arq:\n",
        "  file_name = zipfile.ZipFile(FILE, 'r')\n",
        "  file_name.extractall()\n",
        "  with zipfile.ZipFile(FILE, \"r\") as f:\n",
        "      for name in f.namelist():\n",
        "          img_name.append(name)"
      ],
      "execution_count": null,
      "outputs": []
    },
    {
      "cell_type": "code",
      "metadata": {
        "id": "Rw0LeVUxb69_"
      },
      "source": [
        "y_names = []\n",
        "for yy in img_name:\n",
        "  name = yy[0]+yy[1]+yy[2]\n",
        "  y_names.append(name)"
      ],
      "execution_count": null,
      "outputs": []
    },
    {
      "cell_type": "code",
      "metadata": {
        "id": "kHXoHE64b74V"
      },
      "source": [
        "unique_list = []    \n",
        "for yy in y_names:\n",
        "  if yy not in unique_list:\n",
        "    unique_list.append(yy)"
      ],
      "execution_count": null,
      "outputs": []
    },
    {
      "cell_type": "code",
      "metadata": {
        "id": "BF9OQntxcC1T"
      },
      "source": [
        "n = len(unique_list)\n",
        "y = []\n",
        "for yy in y_names:\n",
        "  for i in range(n):\n",
        "    if(yy == unique_list[i]):\n",
        "      y.append(i)"
      ],
      "execution_count": null,
      "outputs": []
    },
    {
      "cell_type": "code",
      "metadata": {
        "id": "_UfEBXxevfc3"
      },
      "source": [
        "DATASET_SIZE = len(y_names)\n",
        "Ind = range(DATASET_SIZE)\n",
        "Img_Size = 80\n",
        "num_range = DATASET_SIZE"
      ],
      "execution_count": null,
      "outputs": []
    },
    {
      "cell_type": "code",
      "metadata": {
        "id": "WaQGiOZtbsuD"
      },
      "source": [
        "Ind_train, Ind_test= train_test_split(Ind,test_size=0.20, shuffle=True, random_state=3)"
      ],
      "execution_count": null,
      "outputs": []
    },
    {
      "cell_type": "code",
      "metadata": {
        "id": "H3NeNX-PvtRm"
      },
      "source": [
        "X_train = []\n",
        "Y_train = []\n",
        "for II in Ind_train:\n",
        "  name = img_name[II]\n",
        "  X_train.append(cv2.resize(cv2.imread(name),(Img_Size,Img_Size)))\n",
        "  Y_train.append(y[II])"
      ],
      "execution_count": null,
      "outputs": []
    },
    {
      "cell_type": "code",
      "metadata": {
        "id": "vHeC2Eumyu6N"
      },
      "source": [
        "X_test= []\n",
        "Y_test = []\n",
        "for II in Ind_test:\n",
        "  name = img_name[II]\n",
        "  X_test.append(cv2.resize(cv2.imread(name),(Img_Size,Img_Size)))\n",
        "  Y_test.append(y[II])"
      ],
      "execution_count": null,
      "outputs": []
    },
    {
      "cell_type": "code",
      "metadata": {
        "id": "T7dNqtw269ks"
      },
      "source": [
        "X_train = np.array(X_train)\n",
        "Y_train = np.array(Y_train)\n",
        "K = len(set(Y_train))\n",
        "X_train = X_train.reshape(-1, Img_Size, Img_Size, 3) / 255.0   #como a imagem é colorida entao o o numero é 3, se fosse preto e branco seria 1\n",
        "Y_train = Y_train.astype(np.int32)\n",
        "#Y_train = Y_train.reshape(1,-1)\n",
        "Y_train = ynindicator(Y_train)\n",
        "\n",
        "X_test = np.array(X_test )\n",
        "Y_test = np.array(Y_test)\n",
        "X_test = X_test.reshape(-1, Img_Size, Img_Size, 3) / 255.0\n",
        "Y_test = Y_test.astype(np.int32)\n",
        "#Y_test = Y_test.reshape(1,-1)\n",
        "Y_test = ynindicator(Y_test)"
      ],
      "execution_count": null,
      "outputs": []
    },
    {
      "cell_type": "code",
      "metadata": {
        "id": "9-rezskM6MZc"
      },
      "source": [
        "\n",
        "# the model will be a sequence of layers\n",
        "\n",
        "model = Sequential()\n",
        "\n",
        "\n",
        "# make the CNN\n",
        "# model.add(Input(shape=(28, 28, 1)))\n",
        "model.add(Conv2D(input_shape=(Img_Size, Img_Size, 3), filters=32, kernel_size=(3, 3)))\n",
        "model.add(BatchNormalization())\n",
        "model.add(Activation('relu'))\n",
        "model.add(MaxPooling2D())\n",
        "\n",
        "model.add(Conv2D(filters=64, kernel_size=(3, 3)))\n",
        "model.add(BatchNormalization())\n",
        "model.add(Activation('relu'))\n",
        "model.add(MaxPooling2D())\n",
        "\n",
        "model.add(Conv2D(filters=128, kernel_size=(3, 3)))\n",
        "model.add(BatchNormalization())\n",
        "model.add(Activation('relu'))\n",
        "model.add(MaxPooling2D())\n",
        "\n",
        "model.add(Flatten())   #flatten é o equivalente a ravel só q para o keras\n",
        "model.add(Dense(units=200))\n",
        "model.add(Activation('relu'))\n",
        "model.add(Dropout(0.2))\n",
        "model.add(Dense(units=100))\n",
        "model.add(Activation('relu'))\n",
        "model.add(Dense(units=K))\n",
        "model.add(Activation('softmax'))\n",
        "\n",
        "\n",
        "# list of losses: https://keras.io/losses/\n",
        "# list of optimizers: https://keras.io/optimizers/\n",
        "# list of metrics: https://keras.io/metrics/\n",
        "model.compile(\n",
        "  loss='categorical_crossentropy',\n",
        "  optimizer='adam',\n",
        "  metrics=['accuracy']  \n",
        ")   # compilação do modelo"
      ],
      "execution_count": null,
      "outputs": []
    },
    {
      "cell_type": "code",
      "metadata": {
        "colab": {
          "base_uri": "https://localhost:8080/"
        },
        "id": "NEy9670uvvDF",
        "outputId": "d5698125-5ec9-4a6a-ac0b-2a5a34898524"
      },
      "source": [
        "# gives us back a <keras.callbacks.History object at 0x112e61a90>\n",
        "r = model.fit(X_train, Y_train, validation_data = (X_test,Y_test), epochs=15, batch_size=32)   #teria que aumentar o numero de epuchs ate atingir a estabilidade\n",
        "print(\"Returned:\", r)"
      ],
      "execution_count": null,
      "outputs": [
        {
          "output_type": "stream",
          "text": [
            "Epoch 1/15\n",
            "64/64 [==============================] - 19s 29ms/step - loss: 2.3369 - accuracy: 0.3265 - val_loss: 1.7300 - val_accuracy: 0.1739\n",
            "Epoch 2/15\n",
            "64/64 [==============================] - 1s 14ms/step - loss: 1.2229 - accuracy: 0.5266 - val_loss: 1.9578 - val_accuracy: 0.2609\n",
            "Epoch 3/15\n",
            "64/64 [==============================] - 1s 13ms/step - loss: 1.0875 - accuracy: 0.5836 - val_loss: 1.9277 - val_accuracy: 0.2767\n",
            "Epoch 4/15\n",
            "64/64 [==============================] - 1s 13ms/step - loss: 1.0670 - accuracy: 0.6170 - val_loss: 1.8261 - val_accuracy: 0.2846\n",
            "Epoch 5/15\n",
            "64/64 [==============================] - 1s 13ms/step - loss: 0.9684 - accuracy: 0.6405 - val_loss: 1.6561 - val_accuracy: 0.3557\n",
            "Epoch 6/15\n",
            "64/64 [==============================] - 1s 14ms/step - loss: 0.8733 - accuracy: 0.6825 - val_loss: 1.6028 - val_accuracy: 0.3814\n",
            "Epoch 7/15\n",
            "64/64 [==============================] - 1s 15ms/step - loss: 0.8209 - accuracy: 0.6792 - val_loss: 1.7518 - val_accuracy: 0.3617\n",
            "Epoch 8/15\n",
            "64/64 [==============================] - 1s 15ms/step - loss: 0.7965 - accuracy: 0.6992 - val_loss: 1.3826 - val_accuracy: 0.4980\n",
            "Epoch 9/15\n",
            "64/64 [==============================] - 1s 15ms/step - loss: 0.7434 - accuracy: 0.7375 - val_loss: 1.2328 - val_accuracy: 0.5316\n",
            "Epoch 10/15\n",
            "64/64 [==============================] - 1s 15ms/step - loss: 0.7730 - accuracy: 0.7033 - val_loss: 1.6295 - val_accuracy: 0.4605\n",
            "Epoch 11/15\n",
            "64/64 [==============================] - 1s 13ms/step - loss: 0.6317 - accuracy: 0.7575 - val_loss: 2.4933 - val_accuracy: 0.4447\n",
            "Epoch 12/15\n",
            "64/64 [==============================] - 1s 13ms/step - loss: 0.5955 - accuracy: 0.7738 - val_loss: 2.1061 - val_accuracy: 0.5119\n",
            "Epoch 13/15\n",
            "64/64 [==============================] - 1s 13ms/step - loss: 0.4958 - accuracy: 0.8262 - val_loss: 1.3483 - val_accuracy: 0.5949\n",
            "Epoch 14/15\n",
            "64/64 [==============================] - 1s 14ms/step - loss: 0.5561 - accuracy: 0.7985 - val_loss: 1.0038 - val_accuracy: 0.7095\n",
            "Epoch 15/15\n",
            "64/64 [==============================] - 1s 13ms/step - loss: 0.4562 - accuracy: 0.8367 - val_loss: 1.1636 - val_accuracy: 0.6542\n",
            "Returned: <keras.callbacks.History object at 0x7f2561fb98d0>\n"
          ],
          "name": "stdout"
        }
      ]
    },
    {
      "cell_type": "code",
      "metadata": {
        "colab": {
          "base_uri": "https://localhost:8080/",
          "height": 265
        },
        "id": "XjMPIrnd94k7",
        "outputId": "4444d7d5-1d87-48e9-af9d-075a5883aae2"
      },
      "source": [
        "# plot some data     #para ver o grafico juntos tem que fazer os dois juntos\n",
        "plt.plot(r.history['accuracy'], label='acc')\n",
        "plt.plot(r.history['val_accuracy'], label='val_acc')\n",
        "plt.legend()\n",
        "plt.show()"
      ],
      "execution_count": null,
      "outputs": [
        {
          "output_type": "display_data",
          "data": {
            "image/png": "[encoded data removed]",
            "text/plain": [
              "<Figure size 432x288 with 1 Axes>"
            ]
          },
          "metadata": {
            "tags": [],
            "needs_background": "light"
          }
        }
      ]
    },
    {
      "cell_type": "code",
      "metadata": {
        "colab": {
          "base_uri": "https://localhost:8080/",
          "height": 265
        },
        "id": "olANLcRWCVOm",
        "outputId": "d59965dd-4ff1-4fb0-839e-b8d0b5ca62a0"
      },
      "source": [
        "# plot some data\n",
        "plt.plot(r.history['loss'], label='loss')\n",
        "plt.plot(r.history['val_loss'], label='val_loss')\n",
        "plt.legend()\n",
        "plt.show()"
      ],
      "execution_count": null,
      "outputs": [
        {
          "output_type": "display_data",
          "data": {
            "image/png": "[encoded data removed]",
            "text/plain": [
              "<Figure size 432x288 with 1 Axes>"
            ]
          },
          "metadata": {
            "tags": [],
            "needs_background": "light"
          }
        }
      ]
    },
    {
      "cell_type": "code",
      "metadata": {
        "id": "gWd0Z89VD22q"
      },
      "source": [
        ""
      ],
      "execution_count": null,
      "outputs": []
    }
  ]
}