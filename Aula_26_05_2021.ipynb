{
  "nbformat": 4,
  "nbformat_minor": 0,
  "metadata": {
    "kernelspec": {
      "display_name": "Python 3",
      "language": "python",
      "name": "python3"
    },
    "language_info": {
      "codemirror_mode": {
        "name": "ipython",
        "version": 3
      },
      "file_extension": ".py",
      "mimetype": "text/x-python",
      "name": "python",
      "nbconvert_exporter": "python",
      "pygments_lexer": "ipython3",
      "version": "3.5.4"
    },
    "colab": {
      "name": "Aula 26_05_2021.ipynb",
      "provenance": [],
      "include_colab_link": true
    }
  },
  "cells": [
    {
      "cell_type": "markdown",
      "metadata": {
        "id": "view-in-github",
        "colab_type": "text"
      },
      "source": [
        "<a href=\"https://colab.research.google.com/github/thessafuzaro/Redes_Neurais/blob/main/Aula_26_05_2021.ipynb\" target=\"_parent\"><img src=\"https://colab.research.google.com/assets/colab-badge.svg\" alt=\"Open In Colab\"/></a>"
      ]
    },
    {
      "cell_type": "code",
      "metadata": {
        "id": "cF6kzanWQZgh"
      },
      "source": [
        "# bibliotecas usadas\n",
        "import numpy as np\n",
        "import pandas as pd\n",
        "import matplotlib.pyplot as plt\n",
        "from sklearn.neural_network import MLPRegressor\n",
        "from sklearn.model_selection import train_test_split\n",
        "from sklearn.metrics import mean_squared_error\n",
        "from sklearn import preprocessing\n",
        "from sklearn.metrics import r2_score \n",
        "from google.colab import files\n",
        "from scipy import optimize"
      ],
      "execution_count": 1,
      "outputs": []
    },
    {
      "cell_type": "code",
      "metadata": {
        "id": "UW1APYrFQZgl"
      },
      "source": [
        "# para gerar o grafico no browser\n",
        "%matplotlib inline"
      ],
      "execution_count": 2,
      "outputs": []
    },
    {
      "cell_type": "code",
      "metadata": {
        "id": "xDrq_-S8QZgn",
        "colab": {
          "base_uri": "https://localhost:8080/"
        },
        "outputId": "1f652a09-3faa-4678-d866-ecd4caf8538a"
      },
      "source": [
        "!git clone https://github.com/ucfilho/ANN_2021_01\n",
        "%cd ANN_2021_01"
      ],
      "execution_count": 3,
      "outputs": [
        {
          "output_type": "stream",
          "text": [
            "Cloning into 'ANN_2021_01'...\n",
            "remote: Enumerating objects: 253, done.\u001b[K\n",
            "remote: Counting objects: 100% (253/253), done.\u001b[K\n",
            "remote: Compressing objects: 100% (247/247), done.\u001b[K\n",
            "remote: Total 253 (delta 140), reused 0 (delta 0), pack-reused 0\u001b[K\n",
            "Receiving objects: 100% (253/253), 268.30 KiB | 5.47 MiB/s, done.\n",
            "Resolving deltas: 100% (140/140), done.\n",
            "/content/ANN_2021_01\n"
          ],
          "name": "stdout"
        }
      ]
    },
    {
      "cell_type": "code",
      "metadata": {
        "id": "poo2kvF6QZgo",
        "colab": {
          "base_uri": "https://localhost:8080/"
        },
        "outputId": "499e7460-5226-4bf1-da86-d3c21a199b01"
      },
      "source": [
        "df=pd.read_csv(\"Polimero_maio_21_2015.txt\",sep='\\t')\n",
        "print(df.head())"
      ],
      "execution_count": 4,
      "outputs": [
        {
          "output_type": "stream",
          "text": [
            "   Time     TC     Y  MI    MW\n",
            "0  80.0  170.0  76.5  62  2940\n",
            "1  80.0  180.0  77.0  60  3470\n",
            "2  90.0  170.0  78.0  66  3680\n",
            "3  90.0  180.0  79.5  59  3890\n",
            "4  85.0  175.0  79.9  72  3480\n"
          ],
          "name": "stdout"
        }
      ]
    },
    {
      "cell_type": "code",
      "metadata": {
        "id": "FEvCqRGUQZgr"
      },
      "source": [
        "# separa os dados em normatizados e originais\n",
        "X = df[['Time','TC']]\n"
      ],
      "execution_count": 5,
      "outputs": []
    },
    {
      "cell_type": "code",
      "metadata": {
        "id": "3SdvmVh3ttos"
      },
      "source": [
        "y = np.array(df[['Y','MI','MW']]).reshape(-1,3)\n"
      ],
      "execution_count": 6,
      "outputs": []
    },
    {
      "cell_type": "code",
      "metadata": {
        "id": "9_In7Roxklf-"
      },
      "source": [
        "X_train, X_test, y_train, y_test = train_test_split(X,y,test_size=0.10, shuffle=True, random_state=3) # teste size é o quanto de dados será testado, esse caso 10% , o suffle ele "
      ],
      "execution_count": 7,
      "outputs": []
    },
    {
      "cell_type": "code",
      "metadata": {
        "id": "W1D-K3kZfdKC"
      },
      "source": [
        "scaler_X = preprocessing.MinMaxScaler((-1,1)).fit(X)\n",
        "scaler_Y = preprocessing.MinMaxScaler((-1,1)).fit(y)"
      ],
      "execution_count": 8,
      "outputs": []
    },
    {
      "cell_type": "code",
      "metadata": {
        "id": "n79c1vardcuS"
      },
      "source": [
        "X_train = scaler_X.transform(X)\n",
        "y_train = scaler_Y.transform(y)"
      ],
      "execution_count": 9,
      "outputs": []
    },
    {
      "cell_type": "code",
      "metadata": {
        "id": "a7xdJHoKhCUA",
        "colab": {
          "base_uri": "https://localhost:8080/",
          "height": 35
        },
        "outputId": "ba16e1d3-7678-40b8-8bfd-b7cc80337119"
      },
      "source": [
        "'''\n",
        "X_train = scaler_X.transform(X_train)\n",
        "X_test = scaler_X.transform(X_test)\n",
        "y_train = scaler_Y.transform(y_train)\n",
        "y_test = scaler_Y.transform(y_test)\n",
        "'''"
      ],
      "execution_count": 10,
      "outputs": [
        {
          "output_type": "execute_result",
          "data": {
            "application/vnd.google.colaboratory.intrinsic+json": {
              "type": "string"
            },
            "text/plain": [
              "'\\nX_train = scaler_X.transform(X_train)\\nX_test = scaler_X.transform(X_test)\\ny_train = scaler_Y.transform(y_train)\\ny_test = scaler_Y.transform(y_test)\\n'"
            ]
          },
          "metadata": {
            "tags": []
          },
          "execution_count": 10
        }
      ]
    },
    {
      "cell_type": "code",
      "metadata": {
        "id": "ohPsTk19YUaR"
      },
      "source": [
        "# define a rede neural \n",
        "model = MLPRegressor(solver='lbfgs',activation='tanh',alpha=1e-5,hidden_layer_sizes=(15),\n",
        "                     random_state=1)"
      ],
      "execution_count": 11,
      "outputs": []
    },
    {
      "cell_type": "code",
      "metadata": {
        "colab": {
          "base_uri": "https://localhost:8080/"
        },
        "id": "hYNjZoGaYb1k",
        "outputId": "47aae730-870f-4a58-8941-26c0f309a336"
      },
      "source": [
        "# treina a rede neural\n",
        "model.fit(X_train, y_train)"
      ],
      "execution_count": 12,
      "outputs": [
        {
          "output_type": "execute_result",
          "data": {
            "text/plain": [
              "MLPRegressor(activation='tanh', alpha=1e-05, batch_size='auto', beta_1=0.9,\n",
              "             beta_2=0.999, early_stopping=False, epsilon=1e-08,\n",
              "             hidden_layer_sizes=15, learning_rate='constant',\n",
              "             learning_rate_init=0.001, max_fun=15000, max_iter=200,\n",
              "             momentum=0.9, n_iter_no_change=10, nesterovs_momentum=True,\n",
              "             power_t=0.5, random_state=1, shuffle=True, solver='lbfgs',\n",
              "             tol=0.0001, validation_fraction=0.1, verbose=False,\n",
              "             warm_start=False)"
            ]
          },
          "metadata": {
            "tags": []
          },
          "execution_count": 12
        }
      ]
    },
    {
      "cell_type": "code",
      "metadata": {
        "id": "qF4fxd33YjWF"
      },
      "source": [
        "# usa a rede neural treina em calculos para treino e teste\n",
        "y_calc_train=model.predict(X_train)\n",
        "# y_calc_test=model.predict(X_test)"
      ],
      "execution_count": 13,
      "outputs": []
    },
    {
      "cell_type": "code",
      "metadata": {
        "colab": {
          "base_uri": "https://localhost:8080/"
        },
        "id": "fjTXAKSnb1L8",
        "outputId": "4acffb34-d36a-438e-e643-719dc2bd7051"
      },
      "source": [
        "y_train"
      ],
      "execution_count": 14,
      "outputs": [
        {
          "output_type": "execute_result",
          "data": {
            "text/plain": [
              "array([[-0.61702128, -0.33333333, -1.        ],\n",
              "       [-0.40425532, -0.6       ,  0.11578947],\n",
              "       [ 0.0212766 ,  0.2       ,  0.55789474],\n",
              "       [ 0.65957447, -0.73333333,  1.        ],\n",
              "       [ 0.82978723,  1.        ,  0.13684211],\n",
              "       [ 1.        ,  0.6       , -0.45263158],\n",
              "       [ 0.87234043,  0.46666667, -0.01052632],\n",
              "       [ 0.74468085,  0.73333333, -0.26315789],\n",
              "       [ 0.78723404,  0.86666667,  0.17894737],\n",
              "       [ 0.19148936,  0.46666667, -0.11578947],\n",
              "       [-1.        ,  0.86666667, -0.83157895],\n",
              "       [ 0.23404255, -0.86666667,  0.45263158],\n",
              "       [-0.40425532, -1.        , -0.55789474]])"
            ]
          },
          "metadata": {
            "tags": []
          },
          "execution_count": 14
        }
      ]
    },
    {
      "cell_type": "code",
      "metadata": {
        "colab": {
          "base_uri": "https://localhost:8080/"
        },
        "id": "Y-xRoqNPcG5x",
        "outputId": "b06947da-99b4-451a-ce11-388018931132"
      },
      "source": [
        "y_calc_train"
      ],
      "execution_count": 15,
      "outputs": [
        {
          "output_type": "execute_result",
          "data": {
            "text/plain": [
              "array([[-0.61738232, -0.33337197, -0.99994229],\n",
              "       [-0.40518786, -0.6007252 ,  0.11588197],\n",
              "       [ 0.02124032,  0.1998564 ,  0.55803901],\n",
              "       [ 0.65943924, -0.73403266,  1.000044  ],\n",
              "       [ 0.8468796 ,  0.73325763, -0.08216555],\n",
              "       [ 0.8468796 ,  0.73325763, -0.08216555],\n",
              "       [ 0.8468796 ,  0.73325763, -0.08216555],\n",
              "       [ 0.8468796 ,  0.73325763, -0.08216555],\n",
              "       [ 0.8468796 ,  0.73325763, -0.08216555],\n",
              "       [ 0.19120349,  0.46726165, -0.11548114],\n",
              "       [-1.00007076,  0.86713072, -0.83124186],\n",
              "       [ 0.23475845, -0.8659042 ,  0.45243359],\n",
              "       [-0.40417703, -1.00017644, -0.55811518]])"
            ]
          },
          "metadata": {
            "tags": []
          },
          "execution_count": 15
        }
      ]
    },
    {
      "cell_type": "code",
      "metadata": {
        "id": "BpNn_IogQZgt"
      },
      "source": [
        "# transforma dos dados calculados na forma original (nao normatizado)\n",
        "y_obs_train=scaler_Y.inverse_transform(np.array(y_train).reshape(-1,3))\n",
        "# y_obs_test=scaler_Y.inverse_transform(np.array(y_test).reshape(-1,3))\n",
        "y_calc_train=scaler_Y.inverse_transform(y_calc_train.reshape(-1,3))\n",
        "# y_calc_test=scaler_Y.inverse_transform(y_calc_test.reshape(-1,3))"
      ],
      "execution_count": 16,
      "outputs": []
    },
    {
      "cell_type": "code",
      "metadata": {
        "id": "wmk4ojlFdCSr"
      },
      "source": [
        ""
      ],
      "execution_count": 16,
      "outputs": []
    },
    {
      "cell_type": "code",
      "metadata": {
        "id": "jGfHbJMBoX9y",
        "colab": {
          "base_uri": "https://localhost:8080/",
          "height": 35
        },
        "outputId": "0c718967-5634-414d-9d5b-fb4f25c68a91"
      },
      "source": [
        "'''\n",
        "mse=mean_squared_error(y_obs_test,y_calc_test)\n",
        "print(\"MSE teste=\",mse)\n",
        "R2=r2_score(y_obs_test,y_calc_test)\n",
        "print(\"R^2 teste=\",R2)\n",
        "'''"
      ],
      "execution_count": 17,
      "outputs": [
        {
          "output_type": "execute_result",
          "data": {
            "application/vnd.google.colaboratory.intrinsic+json": {
              "type": "string"
            },
            "text/plain": [
              "'\\nmse=mean_squared_error(y_obs_test,y_calc_test)\\nprint(\"MSE teste=\",mse)\\nR2=r2_score(y_obs_test,y_calc_test)\\nprint(\"R^2 teste=\",R2)\\n'"
            ]
          },
          "metadata": {
            "tags": []
          },
          "execution_count": 17
        }
      ]
    },
    {
      "cell_type": "code",
      "metadata": {
        "colab": {
          "base_uri": "https://localhost:8080/"
        },
        "id": "IQ6i-NR6ZP_6",
        "outputId": "2fcd998a-0fb8-412a-dd5b-536343892a77"
      },
      "source": [
        "mse=mean_squared_error(y_obs_train,y_calc_train)\n",
        "print(\"MSE treino=\",mse)\n",
        "R2=r2_score(y_obs_train,y_calc_train)\n",
        "print(\"R^2 treino=\",R2)"
      ],
      "execution_count": 18,
      "outputs": [
        {
          "output_type": "stream",
          "text": [
            "MSE treino= 1685.3920755346742\n",
            "R^2 treino= 0.9629146653266748\n"
          ],
          "name": "stdout"
        }
      ]
    },
    {
      "cell_type": "code",
      "metadata": {
        "id": "I6hcy2aKZVKe"
      },
      "source": [
        "def MW_calc(x_test): #Time     TC     Y  MI    MW\n",
        "    global Y_OLD,model\n",
        "    x_test = np.array(x_test).reshape(-1,2)\n",
        "    y_calc_test=model.predict(x_test)\n",
        "    y_calc_test =scaler_Y.inverse_transform(y_calc_test.reshape(-1,3))\n",
        "    y =  y_calc_test[:,2]\n",
        "    return y\n",
        "def MI_calc(x_test):\n",
        "    global Y_OLD,model\n",
        "    x_test = np.array(x_test).reshape(-1,2)\n",
        "    y_calc_test=model.predict(x_test)\n",
        "    y_calc_test =scaler_Y.inverse_transform(y_calc_test.reshape(-1,3))\n",
        "    y =  y_calc_test[:,1]\n",
        "    return y\n",
        "def Y_calc(x_test):\n",
        "    global Y_OLD,model\n",
        "    x_test = x_test.reshape(-1,2)\n",
        "    y_calc_test=model.predict(x_test)\n",
        "    y_calc_test =scaler_Y.inverse_transform(y_calc_test.reshape(-1,3))\n",
        "    y =  y_calc_test[:,0]\n",
        "    return y\n",
        "\n",
        "def Desirability(y,U,T,L):\n",
        "    if y<L:\n",
        "        d=0\n",
        "    if (y>=L)&(y<=T):\n",
        "        d=(y-L)/(T-L)\n",
        "    if (y>=T)&(y<+U):\n",
        "        d=(U-y)/(U-T)\n",
        "    if (y>U):\n",
        "        d=0\n",
        "    return d"
      ],
      "execution_count": 19,
      "outputs": []
    },
    {
      "cell_type": "code",
      "metadata": {
        "id": "w52Tlboqbmhs"
      },
      "source": [
        "def function(x):\n",
        "    Time=x[0]\n",
        "    TC=x[1]\n",
        "    MW=MW_calc(x)\n",
        "    MI=MI_calc(x)\n",
        "    Y=Y_calc(x)\n",
        "    U=3890\n",
        "    T=3400\n",
        "    L=2940\n",
        "    d1=Desirability(MW,U,T,L)\n",
        "    U=68\n",
        "    T=65\n",
        "    L=62\n",
        "    d2=Desirability(MI,U,T,L)\n",
        "    U=80\n",
        "    T=77.5\n",
        "    L=75.6\n",
        "    d3=Desirability(Y,U,T,L)\n",
        "    fun = (-1)*(d1*d2*d3)**(1/3)\n",
        "    return fun"
      ],
      "execution_count": 20,
      "outputs": []
    },
    {
      "cell_type": "code",
      "metadata": {
        "colab": {
          "base_uri": "https://localhost:8080/"
        },
        "id": "2N_aneTlegod",
        "outputId": "708ba765-62fd-4e3a-d91a-8abf8306e4c9"
      },
      "source": [
        "bounds = [(-1, 1),(-1, 1)]  #varia o tempo e a temperatura entre -1 e 1 pq foi escalonado nesse intervavlo\n",
        "\n",
        "Condicoes = optimize.differential_evolution(function,bounds,\n",
        "                                      init=\"latinhypercube\", # obs: init=\"random\"\n",
        "                                      maxiter=100, popsize=50,recombination=0.5)\n",
        "\n",
        "x_opt = Condicoes.x  \n",
        "x_opt =scaler_X.inverse_transform(np.array(x_opt).reshape(-1,2)) #volta o valor das variáveis\n",
        "y_opt =model.predict(x_opt)\n",
        "y_opt =scaler_Y.inverse_transform(np.array(y_opt).reshape(-1,3))\n",
        "print(x_opt)\n",
        "print(y_opt)"
      ],
      "execution_count": 21,
      "outputs": [
        {
          "output_type": "stream",
          "text": [
            "[[ 79.94319506 177.58916325]]\n",
            "[[  72.73294037   60.1493853  3852.59455615]]\n"
          ],
          "name": "stdout"
        }
      ]
    },
    {
      "cell_type": "markdown",
      "metadata": {
        "id": "i_46TqDPi051"
      },
      "source": [
        "\n",
        "PS: no planejamento de experimentos utilizando o Statistica -e-papers Y=80 MI=65,044 MW=3586,1\n",
        "\n",
        "tempo=86,65 e Temperatura=178,77"
      ]
    }
  ]
}