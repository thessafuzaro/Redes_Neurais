{
  "nbformat": 4,
  "nbformat_minor": 0,
  "metadata": {
    "colab": {
      "name": "LSTM_Recorrent_Neural_Network_keras.ipynb",
      "provenance": [],
      "include_colab_link": true
    },
    "kernelspec": {
      "name": "python3",
      "display_name": "Python 3"
    },
    "language_info": {
      "name": "python"
    },
    "accelerator": "GPU"
  },
  "cells": [
    {
      "cell_type": "markdown",
      "metadata": {
        "id": "view-in-github",
        "colab_type": "text"
      },
      "source": [
        "<a href=\"https://colab.research.google.com/github/thessafuzaro/Redes_Neurais/blob/main/RecurrentANN/LSTM_Recorrent_Neural_Network_keras.ipynb\" target=\"_parent\"><img src=\"https://colab.research.google.com/assets/colab-badge.svg\" alt=\"Open In Colab\"/></a>"
      ]
    },
    {
      "cell_type": "code",
      "metadata": {
        "id": "K_jJAZ_6N936"
      },
      "source": [
        "import numpy as np\n",
        "import pandas as pd\n",
        "import matplotlib.pyplot as plt"
      ],
      "execution_count": 29,
      "outputs": []
    },
    {
      "cell_type": "code",
      "metadata": {
        "colab": {
          "base_uri": "https://localhost:8080/"
        },
        "id": "XccBu23IUDQi",
        "outputId": "f38fcb99-4c56-4b91-aa01-d60002f46a83"
      },
      "source": [
        "import tensorflow as tf\n",
        "print(tf.__version__)"
      ],
      "execution_count": 30,
      "outputs": [
        {
          "output_type": "stream",
          "text": [
            "2.5.0\n"
          ],
          "name": "stdout"
        }
      ]
    },
    {
      "cell_type": "code",
      "metadata": {
        "colab": {
          "base_uri": "https://localhost:8080/",
          "height": 53
        },
        "id": "w6Tq-tVbULg5",
        "outputId": "a2708d54-09fc-4b2c-9e9e-d3dd3ea1229f"
      },
      "source": [
        "'''\n",
        "from tensorflow.keras.layers import Input, SimpleRNN, Dense, Flatten\n",
        "from tensorflow.keras.models import Model\n",
        "from tensorflow.keras.optimizers import SGD, Adam\n",
        "'''"
      ],
      "execution_count": 31,
      "outputs": [
        {
          "output_type": "execute_result",
          "data": {
            "application/vnd.google.colaboratory.intrinsic+json": {
              "type": "string"
            },
            "text/plain": [
              "'\\nfrom tensorflow.keras.layers import Input, SimpleRNN, Dense, Flatten\\nfrom tensorflow.keras.models import Model\\nfrom tensorflow.keras.optimizers import SGD, Adam\\n'"
            ]
          },
          "metadata": {
            "tags": []
          },
          "execution_count": 31
        }
      ]
    },
    {
      "cell_type": "code",
      "metadata": {
        "id": "EzQewWOyVj3Y"
      },
      "source": [
        "from keras.layers import Input, SimpleRNN, Dense, Flatten, LSTM\n",
        "from keras.models import Sequential\n",
        "from keras.optimizers import SGD, Adam"
      ],
      "execution_count": 32,
      "outputs": []
    },
    {
      "cell_type": "code",
      "metadata": {
        "id": "64w5FYLaObl1"
      },
      "source": [
        "num = 200\n",
        "series = np.sin(0.1*np.arange(num)+0.1*np.random.randn(num))"
      ],
      "execution_count": 33,
      "outputs": []
    },
    {
      "cell_type": "code",
      "metadata": {
        "colab": {
          "base_uri": "https://localhost:8080/",
          "height": 282
        },
        "id": "ZB2PKKK4OvMp",
        "outputId": "cdcfd411-83c3-489d-a7d9-c4811f81eb08"
      },
      "source": [
        "plt.plot(series)"
      ],
      "execution_count": 34,
      "outputs": [
        {
          "output_type": "execute_result",
          "data": {
            "text/plain": [
              "[<matplotlib.lines.Line2D at 0x7f9e99d9a8d0>]"
            ]
          },
          "metadata": {
            "tags": []
          },
          "execution_count": 34
        },
        {
          "output_type": "display_data",
          "data": {
            "image/png": "[encoded data removed]",
            "text/plain": [
              "<Figure size 432x288 with 1 Axes>"
            ]
          },
          "metadata": {
            "tags": [],
            "needs_background": "light"
          }
        }
      ]
    },
    {
      "cell_type": "code",
      "metadata": {
        "colab": {
          "base_uri": "https://localhost:8080/"
        },
        "id": "0ZhEvmnDQAPn",
        "outputId": "0b4316b5-0ae7-45be-ec52-b99b1d10edcb"
      },
      "source": [
        "P = 10 # period\n",
        "D = 1\n",
        "X = []\n",
        "Y = []\n",
        "\n",
        "for t in range(num-P):\n",
        "  t_next = t+ P\n",
        "  xx = series[t:t_next]\n",
        "  X.append(xx)\n",
        "  yy = series[t_next]\n",
        "  Y.append(yy)\n",
        "\n",
        "X = np.array(X).reshape(-1,P,1) # data NxDxP\n",
        "Y = np.array(Y)\n",
        "print('input shape',X.shape,'output shape',Y.shape )"
      ],
      "execution_count": 35,
      "outputs": [
        {
          "output_type": "stream",
          "text": [
            "input shape (190, 10, 1) output shape (190,)\n"
          ],
          "name": "stdout"
        }
      ]
    },
    {
      "cell_type": "code",
      "metadata": {
        "colab": {
          "base_uri": "https://localhost:8080/"
        },
        "id": "sM4ocPeUTVic",
        "outputId": "c0a68a6a-f648-4a06-ca38-195eeb385994"
      },
      "source": [
        "X[0]"
      ],
      "execution_count": 36,
      "outputs": [
        {
          "output_type": "execute_result",
          "data": {
            "text/plain": [
              "array([[-0.0860522 ],\n",
              "       [ 0.0776715 ],\n",
              "       [ 0.19011078],\n",
              "       [ 0.1195234 ],\n",
              "       [ 0.2187859 ],\n",
              "       [ 0.43168968],\n",
              "       [ 0.53845903],\n",
              "       [ 0.75038016],\n",
              "       [ 0.8646789 ],\n",
              "       [ 0.76466081]])"
            ]
          },
          "metadata": {
            "tags": []
          },
          "execution_count": 36
        }
      ]
    },
    {
      "cell_type": "code",
      "metadata": {
        "id": "92S4mjUNWnlR"
      },
      "source": [
        "N, cols, other = X.shape  #a ordem interfere, entao nao podemos embaralhar os dados\n",
        "X_train = X[:-N//2]   #pega tudo até a metade de -N , tem que usar // para ser divisao inteira  e o - significa que pega de tras para frente\n",
        "Y_train = Y[:-N//2]\n",
        "X_test = X[-N//2:]\n",
        "Y_test = Y[-N//2:]"
      ],
      "execution_count": 37,
      "outputs": []
    },
    {
      "cell_type": "code",
      "metadata": {
        "colab": {
          "base_uri": "https://localhost:8080/"
        },
        "id": "aCVh4_ozTvga",
        "outputId": "509e2bed-f858-4d28-df0b-f4086337cd53"
      },
      "source": [
        "model = Sequential()\n",
        "# Add an Embedding layer expecting input vocab of size 1000, and\n",
        "# output embedding dimension of size 64.\n",
        "model.add(Input(shape=(P,1)))\n",
        "\n",
        "# Add a simpleRNN layer with 5 internal units.\n",
        "model.add(LSTM(5,'relu'))\n",
        "\n",
        "# Add a Dense layer with 1 units.\n",
        "model.add(Dense(1))  #a camada densa é 1 (linear) pq tem uma resposta\n",
        "\n",
        "model.summary()"
      ],
      "execution_count": 38,
      "outputs": [
        {
          "output_type": "stream",
          "text": [
            "WARNING:tensorflow:Please add `keras.layers.InputLayer` instead of `keras.Input` to Sequential model. `keras.Input` is intended to be used by Functional model.\n",
            "WARNING:tensorflow:Layer lstm_3 will not use cuDNN kernels since it doesn't meet the criteria. It will use a generic GPU kernel as fallback when running on GPU.\n",
            "Model: \"sequential_2\"\n",
            "_________________________________________________________________\n",
            "Layer (type)                 Output Shape              Param #   \n",
            "=================================================================\n",
            "lstm_3 (LSTM)                (None, 5)                 140       \n",
            "_________________________________________________________________\n",
            "dense_1 (Dense)              (None, 1)                 6         \n",
            "=================================================================\n",
            "Total params: 146\n",
            "Trainable params: 146\n",
            "Non-trainable params: 0\n",
            "_________________________________________________________________\n"
          ],
          "name": "stdout"
        }
      ]
    },
    {
      "cell_type": "code",
      "metadata": {
        "colab": {
          "base_uri": "https://localhost:8080/"
        },
        "id": "VXMKsjrbXJCe",
        "outputId": "b30e5efc-b2f5-4754-f7cb-6d2349f1376b"
      },
      "source": [
        "model.compile(loss='mse',optimizer=Adam(lr=0.1))"
      ],
      "execution_count": 39,
      "outputs": [
        {
          "output_type": "stream",
          "text": [
            "/usr/local/lib/python3.7/dist-packages/tensorflow/python/keras/optimizer_v2/optimizer_v2.py:375: UserWarning: The `lr` argument is deprecated, use `learning_rate` instead.\n",
            "  \"The `lr` argument is deprecated, use `learning_rate` instead.\")\n"
          ],
          "name": "stderr"
        }
      ]
    },
    {
      "cell_type": "code",
      "metadata": {
        "colab": {
          "base_uri": "https://localhost:8080/"
        },
        "id": "8fmK2AJFWixM",
        "outputId": "19fc1cba-be69-4c07-ac3d-5847b7e4236c"
      },
      "source": [
        "r = model.fit(X_train,Y_train,\n",
        "              epochs=100, \n",
        "              validation_data = ( X_test ,Y_test ) )  #epochs é o numero de interaçoes"
      ],
      "execution_count": 40,
      "outputs": [
        {
          "output_type": "stream",
          "text": [
            "Epoch 1/100\n",
            "3/3 [==============================] - 2s 254ms/step - loss: 0.3983 - val_loss: 0.1480\n",
            "Epoch 2/100\n",
            "3/3 [==============================] - 0s 25ms/step - loss: 0.2379 - val_loss: 0.3459\n",
            "Epoch 3/100\n",
            "3/3 [==============================] - 0s 30ms/step - loss: 0.2820 - val_loss: 0.1912\n",
            "Epoch 4/100\n",
            "3/3 [==============================] - 0s 25ms/step - loss: 0.1546 - val_loss: 0.1398\n",
            "Epoch 5/100\n",
            "3/3 [==============================] - 0s 25ms/step - loss: 0.1336 - val_loss: 0.1187\n",
            "Epoch 6/100\n",
            "3/3 [==============================] - 0s 26ms/step - loss: 0.0722 - val_loss: 0.0621\n",
            "Epoch 7/100\n",
            "3/3 [==============================] - 0s 26ms/step - loss: 0.0831 - val_loss: 0.0716\n",
            "Epoch 8/100\n",
            "3/3 [==============================] - 0s 26ms/step - loss: 0.0677 - val_loss: 0.0306\n",
            "Epoch 9/100\n",
            "3/3 [==============================] - 0s 27ms/step - loss: 0.0393 - val_loss: 0.0618\n",
            "Epoch 10/100\n",
            "3/3 [==============================] - 0s 24ms/step - loss: 0.0413 - val_loss: 0.0244\n",
            "Epoch 11/100\n",
            "3/3 [==============================] - 0s 30ms/step - loss: 0.0266 - val_loss: 0.0243\n",
            "Epoch 12/100\n",
            "3/3 [==============================] - 0s 24ms/step - loss: 0.0322 - val_loss: 0.0201\n",
            "Epoch 13/100\n",
            "3/3 [==============================] - 0s 25ms/step - loss: 0.0233 - val_loss: 0.0280\n",
            "Epoch 14/100\n",
            "3/3 [==============================] - 0s 27ms/step - loss: 0.0253 - val_loss: 0.0180\n",
            "Epoch 15/100\n",
            "3/3 [==============================] - 0s 26ms/step - loss: 0.0230 - val_loss: 0.0173\n",
            "Epoch 16/100\n",
            "3/3 [==============================] - 0s 29ms/step - loss: 0.0222 - val_loss: 0.0182\n",
            "Epoch 17/100\n",
            "3/3 [==============================] - 0s 27ms/step - loss: 0.0226 - val_loss: 0.0223\n",
            "Epoch 18/100\n",
            "3/3 [==============================] - 0s 27ms/step - loss: 0.0199 - val_loss: 0.0157\n",
            "Epoch 19/100\n",
            "3/3 [==============================] - 0s 27ms/step - loss: 0.0219 - val_loss: 0.0154\n",
            "Epoch 20/100\n",
            "3/3 [==============================] - 0s 26ms/step - loss: 0.0224 - val_loss: 0.0235\n",
            "Epoch 21/100\n",
            "3/3 [==============================] - 0s 24ms/step - loss: 0.0260 - val_loss: 0.0127\n",
            "Epoch 22/100\n",
            "3/3 [==============================] - 0s 25ms/step - loss: 0.0215 - val_loss: 0.0124\n",
            "Epoch 23/100\n",
            "3/3 [==============================] - 0s 25ms/step - loss: 0.0161 - val_loss: 0.0151\n",
            "Epoch 24/100\n",
            "3/3 [==============================] - 0s 26ms/step - loss: 0.0188 - val_loss: 0.0117\n",
            "Epoch 25/100\n",
            "3/3 [==============================] - 0s 25ms/step - loss: 0.0149 - val_loss: 0.0112\n",
            "Epoch 26/100\n",
            "3/3 [==============================] - 0s 25ms/step - loss: 0.0180 - val_loss: 0.0120\n",
            "Epoch 27/100\n",
            "3/3 [==============================] - 0s 27ms/step - loss: 0.0168 - val_loss: 0.0114\n",
            "Epoch 28/100\n",
            "3/3 [==============================] - 0s 28ms/step - loss: 0.0145 - val_loss: 0.0113\n",
            "Epoch 29/100\n",
            "3/3 [==============================] - 0s 27ms/step - loss: 0.0155 - val_loss: 0.0105\n",
            "Epoch 30/100\n",
            "3/3 [==============================] - 0s 29ms/step - loss: 0.0135 - val_loss: 0.0100\n",
            "Epoch 31/100\n",
            "3/3 [==============================] - 0s 27ms/step - loss: 0.0147 - val_loss: 0.0102\n",
            "Epoch 32/100\n",
            "3/3 [==============================] - 0s 27ms/step - loss: 0.0147 - val_loss: 0.0101\n",
            "Epoch 33/100\n",
            "3/3 [==============================] - 0s 28ms/step - loss: 0.0142 - val_loss: 0.0092\n",
            "Epoch 34/100\n",
            "3/3 [==============================] - 0s 24ms/step - loss: 0.0127 - val_loss: 0.0095\n",
            "Epoch 35/100\n",
            "3/3 [==============================] - 0s 26ms/step - loss: 0.0159 - val_loss: 0.0093\n",
            "Epoch 36/100\n",
            "3/3 [==============================] - 0s 25ms/step - loss: 0.0157 - val_loss: 0.0093\n",
            "Epoch 37/100\n",
            "3/3 [==============================] - 0s 27ms/step - loss: 0.0158 - val_loss: 0.0087\n",
            "Epoch 38/100\n",
            "3/3 [==============================] - 0s 28ms/step - loss: 0.0134 - val_loss: 0.0102\n",
            "Epoch 39/100\n",
            "3/3 [==============================] - 0s 27ms/step - loss: 0.0142 - val_loss: 0.0084\n",
            "Epoch 40/100\n",
            "3/3 [==============================] - 0s 25ms/step - loss: 0.0131 - val_loss: 0.0082\n",
            "Epoch 41/100\n",
            "3/3 [==============================] - 0s 25ms/step - loss: 0.0111 - val_loss: 0.0097\n",
            "Epoch 42/100\n",
            "3/3 [==============================] - 0s 32ms/step - loss: 0.0156 - val_loss: 0.0080\n",
            "Epoch 43/100\n",
            "3/3 [==============================] - 0s 24ms/step - loss: 0.0140 - val_loss: 0.0081\n",
            "Epoch 44/100\n",
            "3/3 [==============================] - 0s 26ms/step - loss: 0.0126 - val_loss: 0.0089\n",
            "Epoch 45/100\n",
            "3/3 [==============================] - 0s 25ms/step - loss: 0.0126 - val_loss: 0.0082\n",
            "Epoch 46/100\n",
            "3/3 [==============================] - 0s 24ms/step - loss: 0.0133 - val_loss: 0.0079\n",
            "Epoch 47/100\n",
            "3/3 [==============================] - 0s 26ms/step - loss: 0.0114 - val_loss: 0.0081\n",
            "Epoch 48/100\n",
            "3/3 [==============================] - 0s 24ms/step - loss: 0.0125 - val_loss: 0.0082\n",
            "Epoch 49/100\n",
            "3/3 [==============================] - 0s 25ms/step - loss: 0.0106 - val_loss: 0.0075\n",
            "Epoch 50/100\n",
            "3/3 [==============================] - 0s 25ms/step - loss: 0.0123 - val_loss: 0.0085\n",
            "Epoch 51/100\n",
            "3/3 [==============================] - 0s 26ms/step - loss: 0.0118 - val_loss: 0.0093\n",
            "Epoch 52/100\n",
            "3/3 [==============================] - 0s 25ms/step - loss: 0.0124 - val_loss: 0.0077\n",
            "Epoch 53/100\n",
            "3/3 [==============================] - 0s 26ms/step - loss: 0.0111 - val_loss: 0.0082\n",
            "Epoch 54/100\n",
            "3/3 [==============================] - 0s 26ms/step - loss: 0.0121 - val_loss: 0.0087\n",
            "Epoch 55/100\n",
            "3/3 [==============================] - 0s 27ms/step - loss: 0.0121 - val_loss: 0.0071\n",
            "Epoch 56/100\n",
            "3/3 [==============================] - 0s 30ms/step - loss: 0.0122 - val_loss: 0.0084\n",
            "Epoch 57/100\n",
            "3/3 [==============================] - 0s 27ms/step - loss: 0.0153 - val_loss: 0.0090\n",
            "Epoch 58/100\n",
            "3/3 [==============================] - 0s 26ms/step - loss: 0.0118 - val_loss: 0.0072\n",
            "Epoch 59/100\n",
            "3/3 [==============================] - 0s 27ms/step - loss: 0.0122 - val_loss: 0.0069\n",
            "Epoch 60/100\n",
            "3/3 [==============================] - 0s 26ms/step - loss: 0.0089 - val_loss: 0.0074\n",
            "Epoch 61/100\n",
            "3/3 [==============================] - 0s 25ms/step - loss: 0.0107 - val_loss: 0.0066\n",
            "Epoch 62/100\n",
            "3/3 [==============================] - 0s 26ms/step - loss: 0.0109 - val_loss: 0.0067\n",
            "Epoch 63/100\n",
            "3/3 [==============================] - 0s 24ms/step - loss: 0.0115 - val_loss: 0.0064\n",
            "Epoch 64/100\n",
            "3/3 [==============================] - 0s 27ms/step - loss: 0.0120 - val_loss: 0.0103\n",
            "Epoch 65/100\n",
            "3/3 [==============================] - 0s 34ms/step - loss: 0.0162 - val_loss: 0.0115\n",
            "Epoch 66/100\n",
            "3/3 [==============================] - 0s 26ms/step - loss: 0.0093 - val_loss: 0.0086\n",
            "Epoch 67/100\n",
            "3/3 [==============================] - 0s 26ms/step - loss: 0.0102 - val_loss: 0.0098\n",
            "Epoch 68/100\n",
            "3/3 [==============================] - 0s 25ms/step - loss: 0.0129 - val_loss: 0.0070\n",
            "Epoch 69/100\n",
            "3/3 [==============================] - 0s 25ms/step - loss: 0.0088 - val_loss: 0.0087\n",
            "Epoch 70/100\n",
            "3/3 [==============================] - 0s 28ms/step - loss: 0.0124 - val_loss: 0.0061\n",
            "Epoch 71/100\n",
            "3/3 [==============================] - 0s 27ms/step - loss: 0.0095 - val_loss: 0.0065\n",
            "Epoch 72/100\n",
            "3/3 [==============================] - 0s 27ms/step - loss: 0.0090 - val_loss: 0.0062\n",
            "Epoch 73/100\n",
            "3/3 [==============================] - 0s 32ms/step - loss: 0.0091 - val_loss: 0.0076\n",
            "Epoch 74/100\n",
            "3/3 [==============================] - 0s 29ms/step - loss: 0.0093 - val_loss: 0.0059\n",
            "Epoch 75/100\n",
            "3/3 [==============================] - 0s 27ms/step - loss: 0.0094 - val_loss: 0.0067\n",
            "Epoch 76/100\n",
            "3/3 [==============================] - 0s 27ms/step - loss: 0.0110 - val_loss: 0.0061\n",
            "Epoch 77/100\n",
            "3/3 [==============================] - 0s 28ms/step - loss: 0.0084 - val_loss: 0.0058\n",
            "Epoch 78/100\n",
            "3/3 [==============================] - 0s 27ms/step - loss: 0.0088 - val_loss: 0.0061\n",
            "Epoch 79/100\n",
            "3/3 [==============================] - 0s 27ms/step - loss: 0.0105 - val_loss: 0.0081\n",
            "Epoch 80/100\n",
            "3/3 [==============================] - 0s 25ms/step - loss: 0.0087 - val_loss: 0.0068\n",
            "Epoch 81/100\n",
            "3/3 [==============================] - 0s 28ms/step - loss: 0.0094 - val_loss: 0.0062\n",
            "Epoch 82/100\n",
            "3/3 [==============================] - 0s 26ms/step - loss: 0.0124 - val_loss: 0.0093\n",
            "Epoch 83/100\n",
            "3/3 [==============================] - 0s 28ms/step - loss: 0.0107 - val_loss: 0.0071\n",
            "Epoch 84/100\n",
            "3/3 [==============================] - 0s 25ms/step - loss: 0.0118 - val_loss: 0.0066\n",
            "Epoch 85/100\n",
            "3/3 [==============================] - 0s 28ms/step - loss: 0.0126 - val_loss: 0.0126\n",
            "Epoch 86/100\n",
            "3/3 [==============================] - 0s 26ms/step - loss: 0.0122 - val_loss: 0.0163\n",
            "Epoch 87/100\n",
            "3/3 [==============================] - 0s 26ms/step - loss: 0.0144 - val_loss: 0.0217\n",
            "Epoch 88/100\n",
            "3/3 [==============================] - 0s 25ms/step - loss: 0.0127 - val_loss: 0.0199\n",
            "Epoch 89/100\n",
            "3/3 [==============================] - 0s 23ms/step - loss: 0.0192 - val_loss: 0.0162\n",
            "Epoch 90/100\n",
            "3/3 [==============================] - 0s 25ms/step - loss: 0.0165 - val_loss: 0.0113\n",
            "Epoch 91/100\n",
            "3/3 [==============================] - 0s 26ms/step - loss: 0.0154 - val_loss: 0.0119\n",
            "Epoch 92/100\n",
            "3/3 [==============================] - 0s 26ms/step - loss: 0.0094 - val_loss: 0.0085\n",
            "Epoch 93/100\n",
            "3/3 [==============================] - 0s 26ms/step - loss: 0.0120 - val_loss: 0.0092\n",
            "Epoch 94/100\n",
            "3/3 [==============================] - 0s 25ms/step - loss: 0.0106 - val_loss: 0.0075\n",
            "Epoch 95/100\n",
            "3/3 [==============================] - 0s 24ms/step - loss: 0.0102 - val_loss: 0.0083\n",
            "Epoch 96/100\n",
            "3/3 [==============================] - 0s 25ms/step - loss: 0.0124 - val_loss: 0.0071\n",
            "Epoch 97/100\n",
            "3/3 [==============================] - 0s 29ms/step - loss: 0.0133 - val_loss: 0.0064\n",
            "Epoch 98/100\n",
            "3/3 [==============================] - 0s 27ms/step - loss: 0.0095 - val_loss: 0.0063\n",
            "Epoch 99/100\n",
            "3/3 [==============================] - 0s 25ms/step - loss: 0.0098 - val_loss: 0.0068\n",
            "Epoch 100/100\n",
            "3/3 [==============================] - 0s 29ms/step - loss: 0.0104 - val_loss: 0.0072\n"
          ],
          "name": "stdout"
        }
      ]
    },
    {
      "cell_type": "code",
      "metadata": {
        "colab": {
          "base_uri": "https://localhost:8080/",
          "height": 282
        },
        "id": "U2SXEV-5Z7Sq",
        "outputId": "c7e262d7-088a-4e47-9858-9d0726d07dc4"
      },
      "source": [
        "plt.plot(r.history['loss'],label='loss')\n",
        "plt.plot(r.history['val_loss'],label='val_loss')\n",
        "plt.legend()"
      ],
      "execution_count": 41,
      "outputs": [
        {
          "output_type": "execute_result",
          "data": {
            "text/plain": [
              "<matplotlib.legend.Legend at 0x7f9e9a692590>"
            ]
          },
          "metadata": {
            "tags": []
          },
          "execution_count": 41
        },
        {
          "output_type": "display_data",
          "data": {
            "image/png": "[encoded data removed]",
            "text/plain": [
              "<Figure size 432x288 with 1 Axes>"
            ]
          },
          "metadata": {
            "tags": [],
            "needs_background": "light"
          }
        }
      ]
    },
    {
      "cell_type": "code",
      "metadata": {
        "id": "2gHp7iLwa0lG",
        "colab": {
          "base_uri": "https://localhost:8080/",
          "height": 282
        },
        "outputId": "d6592a68-a3c2-4545-bee1-8ea4fcac4c1c"
      },
      "source": [
        "# this is a wrong way to do....\n",
        "pred_Y = model.predict(X_test)\n",
        "plt.plot(Y_test, label='prediction target')\n",
        "plt.plot(pred_Y, label='prediction forecast')"
      ],
      "execution_count": 42,
      "outputs": [
        {
          "output_type": "execute_result",
          "data": {
            "text/plain": [
              "[<matplotlib.lines.Line2D at 0x7f9e9a1097d0>]"
            ]
          },
          "metadata": {
            "tags": []
          },
          "execution_count": 42
        },
        {
          "output_type": "display_data",
          "data": {
            "image/png": "[encoded data removed]",
            "text/plain": [
              "<Figure size 432x288 with 1 Axes>"
            ]
          },
          "metadata": {
            "tags": [],
            "needs_background": "light"
          }
        }
      ]
    },
    {
      "cell_type": "code",
      "metadata": {
        "id": "IQHyC5xnbKHn"
      },
      "source": [
        "pred_test = []\n",
        "for xi in X_test:\n",
        "  yi = model.predict(xi.reshape(1,-1,1))[0,0]\n",
        "  pred_test.append(yi)"
      ],
      "execution_count": 43,
      "outputs": []
    },
    {
      "cell_type": "code",
      "metadata": {
        "colab": {
          "base_uri": "https://localhost:8080/",
          "height": 282
        },
        "id": "1BAOvmGnpStZ",
        "outputId": "661abf52-c135-4a29-9b96-ae9fbb8849b5"
      },
      "source": [
        "plt.plot(Y_test, label='prediction target')\n",
        "plt.plot(pred_test, label='prediction forecast')"
      ],
      "execution_count": 44,
      "outputs": [
        {
          "output_type": "execute_result",
          "data": {
            "text/plain": [
              "[<matplotlib.lines.Line2D at 0x7f9e9a166910>]"
            ]
          },
          "metadata": {
            "tags": []
          },
          "execution_count": 44
        },
        {
          "output_type": "display_data",
          "data": {
            "image/png": "[encoded data removed]",
            "text/plain": [
              "<Figure size 432x288 with 1 Axes>"
            ]
          },
          "metadata": {
            "tags": [],
            "needs_background": "light"
          }
        }
      ]
    },
    {
      "cell_type": "code",
      "metadata": {
        "id": "ILdLWpK8q1oo",
        "colab": {
          "base_uri": "https://localhost:8080/"
        },
        "outputId": "97bd4024-9775-4192-f920-529bafe891c0"
      },
      "source": [
        "a,b = model.layers[1].get_weights()\n",
        "print(a.shape,b.shape)"
      ],
      "execution_count": 45,
      "outputs": [
        {
          "output_type": "stream",
          "text": [
            "(5, 1) (1,)\n"
          ],
          "name": "stdout"
        }
      ]
    },
    {
      "cell_type": "code",
      "metadata": {
        "colab": {
          "base_uri": "https://localhost:8080/"
        },
        "id": "BjW7xc8bctXI",
        "outputId": "67f4dcc2-bb25-48bd-af91-21cb9d129056"
      },
      "source": [
        "print(a)\n",
        "print('===============')\n",
        "print(b)"
      ],
      "execution_count": 46,
      "outputs": [
        {
          "output_type": "stream",
          "text": [
            "[[ 0.22767185]\n",
            " [-0.43991017]\n",
            " [ 0.4666731 ]\n",
            " [-1.0519664 ]\n",
            " [-1.2759546 ]]\n",
            "===============\n",
            "[1.118975]\n"
          ],
          "name": "stdout"
        }
      ]
    }
  ]
}