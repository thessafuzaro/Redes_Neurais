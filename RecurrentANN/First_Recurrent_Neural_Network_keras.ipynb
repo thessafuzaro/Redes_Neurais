{
  "nbformat": 4,
  "nbformat_minor": 0,
  "metadata": {
    "colab": {
      "name": "First_Recorrent_Neural_Network_keras.ipynb",
      "provenance": [],
      "include_colab_link": true
    },
    "kernelspec": {
      "name": "python3",
      "display_name": "Python 3"
    },
    "language_info": {
      "name": "python"
    },
    "accelerator": "GPU"
  },
  "cells": [
    {
      "cell_type": "markdown",
      "metadata": {
        "id": "view-in-github",
        "colab_type": "text"
      },
      "source": [
        "<a href=\"https://colab.research.google.com/github/thessafuzaro/Redes_Neurais/blob/main/RecurrentANN/First_Recurrent_Neural_Network_keras.ipynb\" target=\"_parent\"><img src=\"https://colab.research.google.com/assets/colab-badge.svg\" alt=\"Open In Colab\"/></a>"
      ]
    },
    {
      "cell_type": "code",
      "metadata": {
        "id": "K_jJAZ_6N936"
      },
      "source": [
        "import numpy as np\n",
        "import pandas as pd\n",
        "import matplotlib.pyplot as plt"
      ],
      "execution_count": null,
      "outputs": []
    },
    {
      "cell_type": "code",
      "metadata": {
        "colab": {
          "base_uri": "https://localhost:8080/"
        },
        "id": "XccBu23IUDQi",
        "outputId": "69ff0433-49db-41b4-a738-c0ac66ec899f"
      },
      "source": [
        "import tensorflow as tf\n",
        "print(tf.__version__)"
      ],
      "execution_count": null,
      "outputs": [
        {
          "output_type": "stream",
          "text": [
            "2.5.0\n"
          ],
          "name": "stdout"
        }
      ]
    },
    {
      "cell_type": "code",
      "metadata": {
        "colab": {
          "base_uri": "https://localhost:8080/",
          "height": 53
        },
        "id": "w6Tq-tVbULg5",
        "outputId": "5ac233c1-56f8-4ebc-dc9c-b3965234ee64"
      },
      "source": [
        "'''\n",
        "from tensorflow.keras.layers import Input, SimpleRNN, Dense, Flatten\n",
        "from tensorflow.keras.models import Model\n",
        "from tensorflow.keras.optimizers import SGD, Adam\n",
        "'''"
      ],
      "execution_count": null,
      "outputs": [
        {
          "output_type": "execute_result",
          "data": {
            "application/vnd.google.colaboratory.intrinsic+json": {
              "type": "string"
            },
            "text/plain": [
              "'\\nfrom tensorflow.keras.layers import Input, SimpleRNN, Dense, Flatten\\nfrom tensorflow.keras.models import Model\\nfrom tensorflow.keras.optimizers import SGD, Adam\\n'"
            ]
          },
          "metadata": {
            "tags": []
          },
          "execution_count": 3
        }
      ]
    },
    {
      "cell_type": "code",
      "metadata": {
        "id": "EzQewWOyVj3Y"
      },
      "source": [
        "from keras.layers import Input, SimpleRNN, Dense, Flatten\n",
        "from keras.models import Sequential\n",
        "from keras.optimizers import SGD, Adam"
      ],
      "execution_count": null,
      "outputs": []
    },
    {
      "cell_type": "code",
      "metadata": {
        "id": "64w5FYLaObl1"
      },
      "source": [
        "num = 200\n",
        "series = np.sin(0.1*np.arange(num)+0.1*np.random.randn(num))  #gerou um seno de 0 a 200 em uma serie para cada 0.1"
      ],
      "execution_count": null,
      "outputs": []
    },
    {
      "cell_type": "code",
      "metadata": {
        "colab": {
          "base_uri": "https://localhost:8080/",
          "height": 283
        },
        "id": "ZB2PKKK4OvMp",
        "outputId": "eb312186-7ffe-48cd-8b28-71200536f5a1"
      },
      "source": [
        "plt.plot(series)"
      ],
      "execution_count": null,
      "outputs": [
        {
          "output_type": "execute_result",
          "data": {
            "text/plain": [
              "[<matplotlib.lines.Line2D at 0x7f86aeda9dd0>]"
            ]
          },
          "metadata": {
            "tags": []
          },
          "execution_count": 6
        },
        {
          "output_type": "display_data",
          "data": {
            "image/png": "[encoded data removed]",
            "text/plain": [
              "<Figure size 432x288 with 1 Axes>"
            ]
          },
          "metadata": {
            "tags": [],
            "needs_background": "light"
          }
        }
      ]
    },
    {
      "cell_type": "code",
      "metadata": {
        "colab": {
          "base_uri": "https://localhost:8080/"
        },
        "id": "0ZhEvmnDQAPn",
        "outputId": "d9bfeff7-38e5-466c-e17c-6e0677d394a7"
      },
      "source": [
        "P = 10 # period\n",
        "D = 1\n",
        "X = []\n",
        "Y = []\n",
        "\n",
        "for t in range(num-P):\n",
        "  t_next = t+ P\n",
        "  xx = series[t:t_next]\n",
        "  X.append(xx)  #armazena o valor em  uma linha de x \n",
        "  yy = series[t_next]\n",
        "  Y.append(yy)  #armazena o valor de yy em uma linha de Y\n",
        "\n",
        "X = np.array(X).reshape(-1,P,1) # data NxDxP\n",
        "Y = np.array(Y)\n",
        "print('input shape',X.shape,'output shape',Y.shape )"
      ],
      "execution_count": null,
      "outputs": [
        {
          "output_type": "stream",
          "text": [
            "input shape (190, 10, 1) output shape (190,)\n"
          ],
          "name": "stdout"
        }
      ]
    },
    {
      "cell_type": "code",
      "metadata": {
        "colab": {
          "base_uri": "https://localhost:8080/"
        },
        "id": "sM4ocPeUTVic",
        "outputId": "52369912-2277-4e33-dd8a-1aa3fbfd85ec"
      },
      "source": [
        "X[0]"
      ],
      "execution_count": null,
      "outputs": [
        {
          "output_type": "execute_result",
          "data": {
            "text/plain": [
              "array([[-0.07214703],\n",
              "       [ 0.0626943 ],\n",
              "       [ 0.25769664],\n",
              "       [ 0.29258586],\n",
              "       [ 0.38772361],\n",
              "       [ 0.50806966],\n",
              "       [ 0.38205242],\n",
              "       [ 0.75540881],\n",
              "       [ 0.77486041],\n",
              "       [ 0.79608066]])"
            ]
          },
          "metadata": {
            "tags": []
          },
          "execution_count": 8
        }
      ]
    },
    {
      "cell_type": "code",
      "metadata": {
        "id": "92S4mjUNWnlR"
      },
      "source": [
        "N, cols, other = X.shape   #agora não pode embaralhar os dados pq a ordem deles influenciam\n",
        "X_train = X[:-N//2]\n",
        "Y_train = Y[:-N//2]\n",
        "X_test = X[-N//2:]\n",
        "Y_test = Y[-N//2:]"
      ],
      "execution_count": null,
      "outputs": []
    },
    {
      "cell_type": "code",
      "metadata": {
        "colab": {
          "base_uri": "https://localhost:8080/"
        },
        "id": "aCVh4_ozTvga",
        "outputId": "5fd95070-6fb8-46f7-b805-7b94dcbb8c7c"
      },
      "source": [
        "model = Sequential()\n",
        "# Add an Embedding layer expecting input vocab of size 1000, and\n",
        "# output embedding dimension of size 64.\n",
        "model.add(Input(shape=(P,1)))   #adiciona a camada com P posiçoes \n",
        "\n",
        "# Add a simpleRNN layer with 5 internal units.\n",
        "model.add(SimpleRNN(5,'relu'))    #camada com 5 neuronios\n",
        "\n",
        "# Add a Dense layer with 1 units.\n",
        "model.add(Dense(1))  #Camada densa se nao coloca nada entende que seja linear\n",
        "\n",
        "model.summary()"
      ],
      "execution_count": null,
      "outputs": [
        {
          "output_type": "stream",
          "text": [
            "WARNING:tensorflow:Please add `keras.layers.InputLayer` instead of `keras.Input` to Sequential model. `keras.Input` is intended to be used by Functional model.\n",
            "Model: \"sequential\"\n",
            "_________________________________________________________________\n",
            "Layer (type)                 Output Shape              Param #   \n",
            "=================================================================\n",
            "simple_rnn (SimpleRNN)       (None, 5)                 35        \n",
            "_________________________________________________________________\n",
            "dense (Dense)                (None, 1)                 6         \n",
            "=================================================================\n",
            "Total params: 41\n",
            "Trainable params: 41\n",
            "Non-trainable params: 0\n",
            "_________________________________________________________________\n"
          ],
          "name": "stdout"
        }
      ]
    },
    {
      "cell_type": "code",
      "metadata": {
        "colab": {
          "base_uri": "https://localhost:8080/"
        },
        "id": "VXMKsjrbXJCe",
        "outputId": "d2bf3891-77f4-4162-cf82-03c0da27f8b9"
      },
      "source": [
        "model.compile(loss='mse',optimizer=Adam(lr=0.1))  #criterio da funçao objetivo (loss= mse- media do erro quadrado) e tem que entrar com o lr"
      ],
      "execution_count": null,
      "outputs": [
        {
          "output_type": "stream",
          "text": [
            "/usr/local/lib/python3.7/dist-packages/tensorflow/python/keras/optimizer_v2/optimizer_v2.py:375: UserWarning: The `lr` argument is deprecated, use `learning_rate` instead.\n",
            "  \"The `lr` argument is deprecated, use `learning_rate` instead.\")\n"
          ],
          "name": "stderr"
        }
      ]
    },
    {
      "cell_type": "code",
      "metadata": {
        "colab": {
          "base_uri": "https://localhost:8080/"
        },
        "id": "8fmK2AJFWixM",
        "outputId": "848ea6f0-64c1-4435-c681-4161f90af82b"
      },
      "source": [
        "r = model.fit(X_train,Y_train,\n",
        "              epochs=100, \n",
        "              validation_data = ( X_test ,Y_test ) )"
      ],
      "execution_count": null,
      "outputs": [
        {
          "output_type": "stream",
          "text": [
            "Epoch 1/100\n",
            "3/3 [==============================] - 19s 291ms/step - loss: 0.3726 - val_loss: 0.0288\n",
            "Epoch 2/100\n",
            "3/3 [==============================] - 0s 18ms/step - loss: 0.0273 - val_loss: 0.0237\n",
            "Epoch 3/100\n",
            "3/3 [==============================] - 0s 20ms/step - loss: 0.0280 - val_loss: 0.0286\n",
            "Epoch 4/100\n",
            "3/3 [==============================] - 0s 18ms/step - loss: 0.0259 - val_loss: 0.0195\n",
            "Epoch 5/100\n",
            "3/3 [==============================] - 0s 17ms/step - loss: 0.0280 - val_loss: 0.0185\n",
            "Epoch 6/100\n",
            "3/3 [==============================] - 0s 16ms/step - loss: 0.0217 - val_loss: 0.0134\n",
            "Epoch 7/100\n",
            "3/3 [==============================] - 0s 17ms/step - loss: 0.0188 - val_loss: 0.0185\n",
            "Epoch 8/100\n",
            "3/3 [==============================] - 0s 16ms/step - loss: 0.0160 - val_loss: 0.0152\n",
            "Epoch 9/100\n",
            "3/3 [==============================] - 0s 17ms/step - loss: 0.0137 - val_loss: 0.0149\n",
            "Epoch 10/100\n",
            "3/3 [==============================] - 0s 17ms/step - loss: 0.0152 - val_loss: 0.0159\n",
            "Epoch 11/100\n",
            "3/3 [==============================] - 0s 17ms/step - loss: 0.0146 - val_loss: 0.0163\n",
            "Epoch 12/100\n",
            "3/3 [==============================] - 0s 17ms/step - loss: 0.0141 - val_loss: 0.0152\n",
            "Epoch 13/100\n",
            "3/3 [==============================] - 0s 17ms/step - loss: 0.0151 - val_loss: 0.0169\n",
            "Epoch 14/100\n",
            "3/3 [==============================] - 0s 17ms/step - loss: 0.0134 - val_loss: 0.0162\n",
            "Epoch 15/100\n",
            "3/3 [==============================] - 0s 18ms/step - loss: 0.0139 - val_loss: 0.0146\n",
            "Epoch 16/100\n",
            "3/3 [==============================] - 0s 20ms/step - loss: 0.0127 - val_loss: 0.0155\n",
            "Epoch 17/100\n",
            "3/3 [==============================] - 0s 16ms/step - loss: 0.0114 - val_loss: 0.0145\n",
            "Epoch 18/100\n",
            "3/3 [==============================] - 0s 17ms/step - loss: 0.0137 - val_loss: 0.0142\n",
            "Epoch 19/100\n",
            "3/3 [==============================] - 0s 17ms/step - loss: 0.0131 - val_loss: 0.0150\n",
            "Epoch 20/100\n",
            "3/3 [==============================] - 0s 18ms/step - loss: 0.0133 - val_loss: 0.0158\n",
            "Epoch 21/100\n",
            "3/3 [==============================] - 0s 16ms/step - loss: 0.0133 - val_loss: 0.0151\n",
            "Epoch 22/100\n",
            "3/3 [==============================] - 0s 16ms/step - loss: 0.0136 - val_loss: 0.0141\n",
            "Epoch 23/100\n",
            "3/3 [==============================] - 0s 16ms/step - loss: 0.0127 - val_loss: 0.0158\n",
            "Epoch 24/100\n",
            "3/3 [==============================] - 0s 16ms/step - loss: 0.0128 - val_loss: 0.0139\n",
            "Epoch 25/100\n",
            "3/3 [==============================] - 0s 19ms/step - loss: 0.0126 - val_loss: 0.0149\n",
            "Epoch 26/100\n",
            "3/3 [==============================] - 0s 16ms/step - loss: 0.0131 - val_loss: 0.0160\n",
            "Epoch 27/100\n",
            "3/3 [==============================] - 0s 17ms/step - loss: 0.0126 - val_loss: 0.0139\n",
            "Epoch 28/100\n",
            "3/3 [==============================] - 0s 17ms/step - loss: 0.0129 - val_loss: 0.0146\n",
            "Epoch 29/100\n",
            "3/3 [==============================] - 0s 16ms/step - loss: 0.0120 - val_loss: 0.0145\n",
            "Epoch 30/100\n",
            "3/3 [==============================] - 0s 16ms/step - loss: 0.0131 - val_loss: 0.0146\n",
            "Epoch 31/100\n",
            "3/3 [==============================] - 0s 17ms/step - loss: 0.0127 - val_loss: 0.0146\n",
            "Epoch 32/100\n",
            "3/3 [==============================] - 0s 16ms/step - loss: 0.0106 - val_loss: 0.0154\n",
            "Epoch 33/100\n",
            "3/3 [==============================] - 0s 16ms/step - loss: 0.0119 - val_loss: 0.0144\n",
            "Epoch 34/100\n",
            "3/3 [==============================] - 0s 19ms/step - loss: 0.0123 - val_loss: 0.0154\n",
            "Epoch 35/100\n",
            "3/3 [==============================] - 0s 16ms/step - loss: 0.0109 - val_loss: 0.0149\n",
            "Epoch 36/100\n",
            "3/3 [==============================] - 0s 16ms/step - loss: 0.0131 - val_loss: 0.0151\n",
            "Epoch 37/100\n",
            "3/3 [==============================] - 0s 18ms/step - loss: 0.0114 - val_loss: 0.0171\n",
            "Epoch 38/100\n",
            "3/3 [==============================] - 0s 16ms/step - loss: 0.0128 - val_loss: 0.0145\n",
            "Epoch 39/100\n",
            "3/3 [==============================] - 0s 16ms/step - loss: 0.0137 - val_loss: 0.0171\n",
            "Epoch 40/100\n",
            "3/3 [==============================] - 0s 16ms/step - loss: 0.0109 - val_loss: 0.0141\n",
            "Epoch 41/100\n",
            "3/3 [==============================] - 0s 16ms/step - loss: 0.0113 - val_loss: 0.0148\n",
            "Epoch 42/100\n",
            "3/3 [==============================] - 0s 16ms/step - loss: 0.0125 - val_loss: 0.0163\n",
            "Epoch 43/100\n",
            "3/3 [==============================] - 0s 16ms/step - loss: 0.0111 - val_loss: 0.0143\n",
            "Epoch 44/100\n",
            "3/3 [==============================] - 0s 16ms/step - loss: 0.0117 - val_loss: 0.0145\n",
            "Epoch 45/100\n",
            "3/3 [==============================] - 0s 17ms/step - loss: 0.0120 - val_loss: 0.0150\n",
            "Epoch 46/100\n",
            "3/3 [==============================] - 0s 16ms/step - loss: 0.0119 - val_loss: 0.0143\n",
            "Epoch 47/100\n",
            "3/3 [==============================] - 0s 17ms/step - loss: 0.0105 - val_loss: 0.0158\n",
            "Epoch 48/100\n",
            "3/3 [==============================] - 0s 20ms/step - loss: 0.0122 - val_loss: 0.0146\n",
            "Epoch 49/100\n",
            "3/3 [==============================] - 0s 18ms/step - loss: 0.0095 - val_loss: 0.0145\n",
            "Epoch 50/100\n",
            "3/3 [==============================] - 0s 18ms/step - loss: 0.0111 - val_loss: 0.0150\n",
            "Epoch 51/100\n",
            "3/3 [==============================] - 0s 16ms/step - loss: 0.0098 - val_loss: 0.0149\n",
            "Epoch 52/100\n",
            "3/3 [==============================] - 0s 16ms/step - loss: 0.0109 - val_loss: 0.0151\n",
            "Epoch 53/100\n",
            "3/3 [==============================] - 0s 16ms/step - loss: 0.0118 - val_loss: 0.0152\n",
            "Epoch 54/100\n",
            "3/3 [==============================] - 0s 17ms/step - loss: 0.0132 - val_loss: 0.0158\n",
            "Epoch 55/100\n",
            "3/3 [==============================] - 0s 16ms/step - loss: 0.0109 - val_loss: 0.0162\n",
            "Epoch 56/100\n",
            "3/3 [==============================] - 0s 17ms/step - loss: 0.0109 - val_loss: 0.0149\n",
            "Epoch 57/100\n",
            "3/3 [==============================] - 0s 24ms/step - loss: 0.0102 - val_loss: 0.0149\n",
            "Epoch 58/100\n",
            "3/3 [==============================] - 0s 17ms/step - loss: 0.0116 - val_loss: 0.0164\n",
            "Epoch 59/100\n",
            "3/3 [==============================] - 0s 17ms/step - loss: 0.0109 - val_loss: 0.0153\n",
            "Epoch 60/100\n",
            "3/3 [==============================] - 0s 17ms/step - loss: 0.0102 - val_loss: 0.0150\n",
            "Epoch 61/100\n",
            "3/3 [==============================] - 0s 16ms/step - loss: 0.0119 - val_loss: 0.0163\n",
            "Epoch 62/100\n",
            "3/3 [==============================] - 0s 17ms/step - loss: 0.0101 - val_loss: 0.0139\n",
            "Epoch 63/100\n",
            "3/3 [==============================] - 0s 18ms/step - loss: 0.0115 - val_loss: 0.0161\n",
            "Epoch 64/100\n",
            "3/3 [==============================] - 0s 16ms/step - loss: 0.0133 - val_loss: 0.0154\n",
            "Epoch 65/100\n",
            "3/3 [==============================] - 0s 17ms/step - loss: 0.0113 - val_loss: 0.0147\n",
            "Epoch 66/100\n",
            "3/3 [==============================] - 0s 17ms/step - loss: 0.0128 - val_loss: 0.0178\n",
            "Epoch 67/100\n",
            "3/3 [==============================] - 0s 17ms/step - loss: 0.0123 - val_loss: 0.0156\n",
            "Epoch 68/100\n",
            "3/3 [==============================] - 0s 16ms/step - loss: 0.0117 - val_loss: 0.0149\n",
            "Epoch 69/100\n",
            "3/3 [==============================] - 0s 19ms/step - loss: 0.0120 - val_loss: 0.0153\n",
            "Epoch 70/100\n",
            "3/3 [==============================] - 0s 17ms/step - loss: 0.0110 - val_loss: 0.0152\n",
            "Epoch 71/100\n",
            "3/3 [==============================] - 0s 17ms/step - loss: 0.0130 - val_loss: 0.0167\n",
            "Epoch 72/100\n",
            "3/3 [==============================] - 0s 16ms/step - loss: 0.0113 - val_loss: 0.0143\n",
            "Epoch 73/100\n",
            "3/3 [==============================] - 0s 17ms/step - loss: 0.0121 - val_loss: 0.0150\n",
            "Epoch 74/100\n",
            "3/3 [==============================] - 0s 19ms/step - loss: 0.0125 - val_loss: 0.0177\n",
            "Epoch 75/100\n",
            "3/3 [==============================] - 0s 16ms/step - loss: 0.0130 - val_loss: 0.0145\n",
            "Epoch 76/100\n",
            "3/3 [==============================] - 0s 17ms/step - loss: 0.0122 - val_loss: 0.0165\n",
            "Epoch 77/100\n",
            "3/3 [==============================] - 0s 17ms/step - loss: 0.0123 - val_loss: 0.0162\n",
            "Epoch 78/100\n",
            "3/3 [==============================] - 0s 16ms/step - loss: 0.0114 - val_loss: 0.0159\n",
            "Epoch 79/100\n",
            "3/3 [==============================] - 0s 17ms/step - loss: 0.0131 - val_loss: 0.0168\n",
            "Epoch 80/100\n",
            "3/3 [==============================] - 0s 17ms/step - loss: 0.0130 - val_loss: 0.0159\n",
            "Epoch 81/100\n",
            "3/3 [==============================] - 0s 18ms/step - loss: 0.0134 - val_loss: 0.0147\n",
            "Epoch 82/100\n",
            "3/3 [==============================] - 0s 17ms/step - loss: 0.0113 - val_loss: 0.0153\n",
            "Epoch 83/100\n",
            "3/3 [==============================] - 0s 17ms/step - loss: 0.0115 - val_loss: 0.0175\n",
            "Epoch 84/100\n",
            "3/3 [==============================] - 0s 16ms/step - loss: 0.0110 - val_loss: 0.0148\n",
            "Epoch 85/100\n",
            "3/3 [==============================] - 0s 18ms/step - loss: 0.0118 - val_loss: 0.0160\n",
            "Epoch 86/100\n",
            "3/3 [==============================] - 0s 20ms/step - loss: 0.0117 - val_loss: 0.0159\n",
            "Epoch 87/100\n",
            "3/3 [==============================] - 0s 16ms/step - loss: 0.0117 - val_loss: 0.0151\n",
            "Epoch 88/100\n",
            "3/3 [==============================] - 0s 18ms/step - loss: 0.0114 - val_loss: 0.0160\n",
            "Epoch 89/100\n",
            "3/3 [==============================] - 0s 17ms/step - loss: 0.0112 - val_loss: 0.0149\n",
            "Epoch 90/100\n",
            "3/3 [==============================] - 0s 16ms/step - loss: 0.0121 - val_loss: 0.0162\n",
            "Epoch 91/100\n",
            "3/3 [==============================] - 0s 19ms/step - loss: 0.0118 - val_loss: 0.0159\n",
            "Epoch 92/100\n",
            "3/3 [==============================] - 0s 18ms/step - loss: 0.0139 - val_loss: 0.0147\n",
            "Epoch 93/100\n",
            "3/3 [==============================] - 0s 17ms/step - loss: 0.0130 - val_loss: 0.0166\n",
            "Epoch 94/100\n",
            "3/3 [==============================] - 0s 19ms/step - loss: 0.0129 - val_loss: 0.0139\n",
            "Epoch 95/100\n",
            "3/3 [==============================] - 0s 17ms/step - loss: 0.0138 - val_loss: 0.0177\n",
            "Epoch 96/100\n",
            "3/3 [==============================] - 0s 17ms/step - loss: 0.0124 - val_loss: 0.0156\n",
            "Epoch 97/100\n",
            "3/3 [==============================] - 0s 19ms/step - loss: 0.0127 - val_loss: 0.0153\n",
            "Epoch 98/100\n",
            "3/3 [==============================] - 0s 16ms/step - loss: 0.0099 - val_loss: 0.0149\n",
            "Epoch 99/100\n",
            "3/3 [==============================] - 0s 16ms/step - loss: 0.0115 - val_loss: 0.0146\n",
            "Epoch 100/100\n",
            "3/3 [==============================] - 0s 16ms/step - loss: 0.0111 - val_loss: 0.0153\n"
          ],
          "name": "stdout"
        }
      ]
    },
    {
      "cell_type": "code",
      "metadata": {
        "colab": {
          "base_uri": "https://localhost:8080/",
          "height": 283
        },
        "id": "U2SXEV-5Z7Sq",
        "outputId": "3acc9aee-402f-44b1-fd42-ab14705ea55c"
      },
      "source": [
        "plt.plot(r.history['loss'],label='loss')\n",
        "plt.plot(r.history['val_loss'],label='val_loss')\n",
        "plt.legend()"
      ],
      "execution_count": null,
      "outputs": [
        {
          "output_type": "execute_result",
          "data": {
            "text/plain": [
              "<matplotlib.legend.Legend at 0x7f8651484810>"
            ]
          },
          "metadata": {
            "tags": []
          },
          "execution_count": 13
        },
        {
          "output_type": "display_data",
          "data": {
            "image/png": "[encoded data removed]",
            "text/plain": [
              "<Figure size 432x288 with 1 Axes>"
            ]
          },
          "metadata": {
            "tags": [],
            "needs_background": "light"
          }
        }
      ]
    },
    {
      "cell_type": "code",
      "metadata": {
        "id": "2gHp7iLwa0lG",
        "colab": {
          "base_uri": "https://localhost:8080/",
          "height": 283
        },
        "outputId": "0edbcf6e-d612-4aa3-caca-803545c4bc19"
      },
      "source": [
        "# this is a wrong way to do....\n",
        "pred_Y = model.predict(X_test)  #entrou com todos os dados de treino e teste (nao é comum)\n",
        "plt.plot(Y_test, label='prediction target')\n",
        "plt.plot(pred_Y, label='prediction forecast')"
      ],
      "execution_count": null,
      "outputs": [
        {
          "output_type": "execute_result",
          "data": {
            "text/plain": [
              "[<matplotlib.lines.Line2D at 0x7f86622d4e10>]"
            ]
          },
          "metadata": {
            "tags": []
          },
          "execution_count": 14
        },
        {
          "output_type": "display_data",
          "data": {
            "image/png": "[encoded data removed]",
            "text/plain": [
              "<Figure size 432x288 with 1 Axes>"
            ]
          },
          "metadata": {
            "tags": [],
            "needs_background": "light"
          }
        }
      ]
    },
    {
      "cell_type": "code",
      "metadata": {
        "id": "IQHyC5xnbKHn"
      },
      "source": [
        "pred_test = []  #vai calculando baseado nos anteriores ( o mais comum)\n",
        "for xi in X_test:\n",
        "  yi = model.predict(xi.reshape(1,-1,1))[0,0]\n",
        "  pred_test.append(yi)"
      ],
      "execution_count": null,
      "outputs": []
    },
    {
      "cell_type": "code",
      "metadata": {
        "colab": {
          "base_uri": "https://localhost:8080/",
          "height": 283
        },
        "id": "1BAOvmGnpStZ",
        "outputId": "81284654-c4c5-4cb1-c8ee-df417dbbfc29"
      },
      "source": [
        "plt.plot(Y_test, label='prediction target')\n",
        "plt.plot(pred_test, label='prediction forecast')"
      ],
      "execution_count": null,
      "outputs": [
        {
          "output_type": "execute_result",
          "data": {
            "text/plain": [
              "[<matplotlib.lines.Line2D at 0x7f8651372710>]"
            ]
          },
          "metadata": {
            "tags": []
          },
          "execution_count": 16
        },
        {
          "output_type": "display_data",
          "data": {
            "image/png": "[encoded data removed]",
            "text/plain": [
              "<Figure size 432x288 with 1 Axes>"
            ]
          },
          "metadata": {
            "tags": [],
            "needs_background": "light"
          }
        }
      ]
    }
  ]
}