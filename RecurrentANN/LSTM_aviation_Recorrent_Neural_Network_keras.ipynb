{
  "nbformat": 4,
  "nbformat_minor": 0,
  "metadata": {
    "colab": {
      "name": "LSTM_aviation_Recorrent_Neural_Network_keras.ipynb",
      "provenance": [],
      "include_colab_link": true
    },
    "kernelspec": {
      "name": "python3",
      "display_name": "Python 3"
    },
    "language_info": {
      "name": "python"
    },
    "accelerator": "GPU"
  },
  "cells": [
    {
      "cell_type": "markdown",
      "metadata": {
        "id": "view-in-github",
        "colab_type": "text"
      },
      "source": [
        "<a href=\"https://colab.research.google.com/github/thessafuzaro/Redes_Neurais/blob/main/RecurrentANN/LSTM_aviation_Recorrent_Neural_Network_keras.ipynb\" target=\"_parent\"><img src=\"https://colab.research.google.com/assets/colab-badge.svg\" alt=\"Open In Colab\"/></a>"
      ]
    },
    {
      "cell_type": "code",
      "metadata": {
        "id": "K_jJAZ_6N936"
      },
      "source": [
        "import numpy as np\n",
        "import pandas as pd\n",
        "import matplotlib.pyplot as plt"
      ],
      "execution_count": null,
      "outputs": []
    },
    {
      "cell_type": "code",
      "metadata": {
        "id": "EzQewWOyVj3Y"
      },
      "source": [
        "from keras.layers import Input, SimpleRNN, Dense, Flatten, LSTM\n",
        "from keras.models import Sequential\n",
        "from keras.optimizers import SGD, Adam"
      ],
      "execution_count": null,
      "outputs": []
    },
    {
      "cell_type": "code",
      "metadata": {
        "id": "64w5FYLaObl1",
        "colab": {
          "base_uri": "https://localhost:8080/"
        },
        "outputId": "0c43c6d0-442d-4a59-9f83-4704f2325d3b"
      },
      "source": [
        "!git clone https://github.com/ucfilho/Machine_Learning_DataSet\n",
        "%cd Machine_Learning_DataSet"
      ],
      "execution_count": null,
      "outputs": [
        {
          "output_type": "stream",
          "text": [
            "Cloning into 'Machine_Learning_DataSet'...\n",
            "remote: Enumerating objects: 25, done.\u001b[K\n",
            "remote: Counting objects: 100% (25/25), done.\u001b[K\n",
            "remote: Compressing objects: 100% (23/23), done.\u001b[K\n",
            "remote: Total 25 (delta 6), reused 0 (delta 0), pack-reused 0\u001b[K\n",
            "Unpacking objects: 100% (25/25), done.\n",
            "/content/Machine_Learning_DataSet\n"
          ],
          "name": "stdout"
        }
      ]
    },
    {
      "cell_type": "code",
      "metadata": {
        "id": "GJzTMuujNlQ0"
      },
      "source": [
        "df=pd.read_csv(\"airline-passengers.csv\")"
      ],
      "execution_count": null,
      "outputs": []
    },
    {
      "cell_type": "code",
      "metadata": {
        "colab": {
          "base_uri": "https://localhost:8080/",
          "height": 143
        },
        "id": "Td-D5xE3Nv0D",
        "outputId": "0a7abc3d-4f93-4c67-9bce-7c453600462f"
      },
      "source": [
        "series = np.array(df['Passengers'])"
      ],
      "execution_count": null,
      "outputs": [
        {
          "output_type": "execute_result",
          "data": {
            "text/html": [
              "<div>\n",
              "<style scoped>\n",
              "    .dataframe tbody tr th:only-of-type {\n",
              "        vertical-align: middle;\n",
              "    }\n",
              "\n",
              "    .dataframe tbody tr th {\n",
              "        vertical-align: top;\n",
              "    }\n",
              "\n",
              "    .dataframe thead th {\n",
              "        text-align: right;\n",
              "    }\n",
              "</style>\n",
              "<table border=\"1\" class=\"dataframe\">\n",
              "  <thead>\n",
              "    <tr style=\"text-align: right;\">\n",
              "      <th></th>\n",
              "      <th>Month</th>\n",
              "      <th>Passengers</th>\n",
              "    </tr>\n",
              "  </thead>\n",
              "  <tbody>\n",
              "    <tr>\n",
              "      <th>0</th>\n",
              "      <td>1949-01</td>\n",
              "      <td>112</td>\n",
              "    </tr>\n",
              "    <tr>\n",
              "      <th>1</th>\n",
              "      <td>1949-02</td>\n",
              "      <td>118</td>\n",
              "    </tr>\n",
              "    <tr>\n",
              "      <th>2</th>\n",
              "      <td>1949-03</td>\n",
              "      <td>132</td>\n",
              "    </tr>\n",
              "  </tbody>\n",
              "</table>\n",
              "</div>"
            ],
            "text/plain": [
              "     Month  Passengers\n",
              "0  1949-01         112\n",
              "1  1949-02         118\n",
              "2  1949-03         132"
            ]
          },
          "metadata": {
            "tags": []
          },
          "execution_count": 8
        }
      ]
    },
    {
      "cell_type": "code",
      "metadata": {
        "id": "ZB2PKKK4OvMp"
      },
      "source": [
        "plt.plot(series)"
      ],
      "execution_count": null,
      "outputs": []
    },
    {
      "cell_type": "code",
      "metadata": {
        "id": "0ZhEvmnDQAPn"
      },
      "source": [
        "P = 10 # period\n",
        "D = 1\n",
        "X = []\n",
        "Y = []\n",
        "\n",
        "for t in range(num-P):\n",
        "  t_next = t+ P\n",
        "  xx = series[t:t_next]\n",
        "  X.append(xx)\n",
        "  yy = series[t_next]\n",
        "  Y.append(yy)\n",
        "\n",
        "X = np.array(X).reshape(-1,P,1) # data NxDxP\n",
        "Y = np.array(Y)\n",
        "print('input shape',X.shape,'output shape',Y.shape )"
      ],
      "execution_count": null,
      "outputs": []
    },
    {
      "cell_type": "code",
      "metadata": {
        "id": "sM4ocPeUTVic"
      },
      "source": [
        "X[0]"
      ],
      "execution_count": null,
      "outputs": []
    },
    {
      "cell_type": "code",
      "metadata": {
        "id": "92S4mjUNWnlR"
      },
      "source": [
        "N, cols, other = X.shape\n",
        "X_train = X[:-N//2]\n",
        "Y_train = Y[:-N//2]\n",
        "X_test = X[-N//2:]\n",
        "Y_test = Y[-N//2:]"
      ],
      "execution_count": null,
      "outputs": []
    },
    {
      "cell_type": "code",
      "metadata": {
        "id": "aCVh4_ozTvga"
      },
      "source": [
        "model = Sequential()\n",
        "# Add an Embedding layer expecting input vocab of size 1000, and\n",
        "# output embedding dimension of size 64.\n",
        "model.add(Input(shape=(P,1)))\n",
        "\n",
        "# Add a simpleRNN layer with 5 internal units.\n",
        "model.add(LSTM(5,'relu'))\n",
        "# Add a Dense layer with 1 units.\n",
        "model.add(Dense(1))\n",
        "# \n",
        "model.summary()"
      ],
      "execution_count": null,
      "outputs": []
    },
    {
      "cell_type": "code",
      "metadata": {
        "id": "1FJ_6l9kEu8b"
      },
      "source": [
        ""
      ],
      "execution_count": null,
      "outputs": []
    },
    {
      "cell_type": "code",
      "metadata": {
        "id": "VXMKsjrbXJCe"
      },
      "source": [
        "model.compile(loss='mse',optimizer=Adam(lr=0.1))"
      ],
      "execution_count": null,
      "outputs": []
    },
    {
      "cell_type": "code",
      "metadata": {
        "id": "8fmK2AJFWixM"
      },
      "source": [
        "r = model.fit(X_train,Y_train,\n",
        "              epochs=100, \n",
        "              validation_data = ( X_test ,Y_test ) )"
      ],
      "execution_count": null,
      "outputs": []
    },
    {
      "cell_type": "code",
      "metadata": {
        "id": "U2SXEV-5Z7Sq"
      },
      "source": [
        "plt.plot(r.history['loss'],label='loss')\n",
        "plt.plot(r.history['val_loss'],label='val_loss')\n",
        "plt.legend()"
      ],
      "execution_count": null,
      "outputs": []
    },
    {
      "cell_type": "code",
      "metadata": {
        "id": "2gHp7iLwa0lG"
      },
      "source": [
        "# this is a wrong way to do....\n",
        "pred_Y = model.predict(X_test)\n",
        "plt.plot(Y_test, label='prediction target')\n",
        "plt.plot(pred_Y, label='prediction forecast')"
      ],
      "execution_count": null,
      "outputs": []
    },
    {
      "cell_type": "code",
      "metadata": {
        "id": "IQHyC5xnbKHn"
      },
      "source": [
        "pred_test = []\n",
        "for xi in X_test:\n",
        "  yi = model.predict(xi.reshape(1,-1,1))[0,0]\n",
        "  pred_test.append(yi)"
      ],
      "execution_count": null,
      "outputs": []
    },
    {
      "cell_type": "code",
      "metadata": {
        "id": "1BAOvmGnpStZ"
      },
      "source": [
        "plt.plot(Y_test, label='prediction target')\n",
        "plt.plot(pred_test, label='prediction forecast')"
      ],
      "execution_count": null,
      "outputs": []
    },
    {
      "cell_type": "code",
      "metadata": {
        "id": "ILdLWpK8q1oo"
      },
      "source": [
        "a,b = model.layers[1].get_weights()\n",
        "print(a.shape,b.shape)"
      ],
      "execution_count": null,
      "outputs": []
    },
    {
      "cell_type": "code",
      "metadata": {
        "id": "BjW7xc8bctXI"
      },
      "source": [
        "print(a)\n",
        "print('===============')\n",
        "print(b)"
      ],
      "execution_count": null,
      "outputs": []
    }
  ]
}