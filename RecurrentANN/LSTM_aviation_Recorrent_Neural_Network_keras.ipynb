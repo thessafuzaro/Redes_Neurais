{
  "nbformat": 4,
  "nbformat_minor": 0,
  "metadata": {
    "colab": {
      "name": "LSTM_aviation_Recorrent_Neural_Network_keras.ipynb",
      "provenance": [],
      "include_colab_link": true
    },
    "kernelspec": {
      "name": "python3",
      "display_name": "Python 3"
    },
    "language_info": {
      "name": "python"
    },
    "accelerator": "GPU"
  },
  "cells": [
    {
      "cell_type": "markdown",
      "metadata": {
        "id": "view-in-github",
        "colab_type": "text"
      },
      "source": [
        "<a href=\"https://colab.research.google.com/github/thessafuzaro/Redes_Neurais/blob/main/RecurrentANN/LSTM_aviation_Recorrent_Neural_Network_keras.ipynb\" target=\"_parent\"><img src=\"https://colab.research.google.com/assets/colab-badge.svg\" alt=\"Open In Colab\"/></a>"
      ]
    },
    {
      "cell_type": "code",
      "metadata": {
        "id": "K_jJAZ_6N936"
      },
      "source": [
        "import numpy as np\n",
        "import pandas as pd\n",
        "import matplotlib.pyplot as plt"
      ],
      "execution_count": null,
      "outputs": []
    },
    {
      "cell_type": "code",
      "metadata": {
        "id": "EzQewWOyVj3Y"
      },
      "source": [
        "from keras.layers import Input, SimpleRNN, Dense, Flatten, LSTM\n",
        "from keras.models import Sequential\n",
        "from keras.optimizers import SGD, Adam\n",
        "from sklearn import preprocessing"
      ],
      "execution_count": null,
      "outputs": []
    },
    {
      "cell_type": "code",
      "metadata": {
        "id": "64w5FYLaObl1",
        "colab": {
          "base_uri": "https://localhost:8080/"
        },
        "outputId": "216864a5-6897-468e-aa79-035fe83aec36"
      },
      "source": [
        "!git clone https://github.com/ucfilho/Machine_Learning_DataSet\n",
        "%cd Machine_Learning_DataSet"
      ],
      "execution_count": null,
      "outputs": [
        {
          "output_type": "stream",
          "text": [
            "fatal: destination path 'Machine_Learning_DataSet' already exists and is not an empty directory.\n",
            "/content/Machine_Learning_DataSet\n"
          ],
          "name": "stdout"
        }
      ]
    },
    {
      "cell_type": "code",
      "metadata": {
        "id": "GJzTMuujNlQ0"
      },
      "source": [
        "df=pd.read_csv(\"airline-passengers.csv\")"
      ],
      "execution_count": null,
      "outputs": []
    },
    {
      "cell_type": "code",
      "metadata": {
        "id": "Td-D5xE3Nv0D"
      },
      "source": [
        "series = np.array(df['Passengers'])"
      ],
      "execution_count": null,
      "outputs": []
    },
    {
      "cell_type": "code",
      "metadata": {
        "colab": {
          "base_uri": "https://localhost:8080/",
          "height": 283
        },
        "id": "ZB2PKKK4OvMp",
        "outputId": "55189864-b97b-443d-f15b-0493a6616ec6"
      },
      "source": [
        "plt.plot(series)"
      ],
      "execution_count": null,
      "outputs": [
        {
          "output_type": "execute_result",
          "data": {
            "text/plain": [
              "[<matplotlib.lines.Line2D at 0x7efc210880d0>]"
            ]
          },
          "metadata": {
            "tags": []
          },
          "execution_count": 6
        },
        {
          "output_type": "display_data",
          "data": {
            "image/png": "[encoded data removed]",
            "text/plain": [
              "<Figure size 432x288 with 1 Axes>"
            ]
          },
          "metadata": {
            "tags": [],
            "needs_background": "light"
          }
        }
      ]
    },
    {
      "cell_type": "code",
      "metadata": {
        "id": "fsanZVedQqjj"
      },
      "source": [
        "scaler_X = preprocessing.MinMaxScaler((-1,1)).fit(series)\n",
        "series =  scaler_X.transform(series)"
      ],
      "execution_count": null,
      "outputs": []
    },
    {
      "cell_type": "code",
      "metadata": {
        "colab": {
          "base_uri": "https://localhost:8080/"
        },
        "id": "0ZhEvmnDQAPn",
        "outputId": "ddc0468c-fe5c-4111-b619-acecd7d66a74"
      },
      "source": [
        "P = 10 # period\n",
        "D = 1\n",
        "X = []\n",
        "Y = []\n",
        "num,col = df.shape\n",
        "\n",
        "for t in range(num-P):\n",
        "  t_next = t+ P\n",
        "  xx = series[t:t_next]\n",
        "  X.append(xx)\n",
        "  yy = series[t_next]\n",
        "  Y.append(yy)\n",
        "\n",
        "X = np.array(X).reshape(-1,P,1) # data NxDxP\n",
        "Y = np.array(Y)\n",
        "print('input shape',X.shape,'output shape',Y.shape )"
      ],
      "execution_count": null,
      "outputs": [
        {
          "output_type": "stream",
          "text": [
            "input shape (134, 10, 1) output shape (134,)\n"
          ],
          "name": "stdout"
        }
      ]
    },
    {
      "cell_type": "code",
      "metadata": {
        "colab": {
          "base_uri": "https://localhost:8080/"
        },
        "id": "sM4ocPeUTVic",
        "outputId": "2633ded1-5c24-4cb6-f7dd-de07a8482fe8"
      },
      "source": [
        "X[0]"
      ],
      "execution_count": null,
      "outputs": [
        {
          "output_type": "execute_result",
          "data": {
            "text/plain": [
              "array([[112],\n",
              "       [118],\n",
              "       [132],\n",
              "       [129],\n",
              "       [121],\n",
              "       [135],\n",
              "       [148],\n",
              "       [148],\n",
              "       [136],\n",
              "       [119]])"
            ]
          },
          "metadata": {
            "tags": []
          },
          "execution_count": 8
        }
      ]
    },
    {
      "cell_type": "code",
      "metadata": {
        "id": "92S4mjUNWnlR"
      },
      "source": [
        "N, cols, other = X.shape\n",
        "X_train = X[:-N//2]\n",
        "Y_train = Y[:-N//2]\n",
        "X_test = X[-N//2:]\n",
        "Y_test = Y[-N//2:]"
      ],
      "execution_count": null,
      "outputs": []
    },
    {
      "cell_type": "code",
      "metadata": {
        "colab": {
          "base_uri": "https://localhost:8080/"
        },
        "id": "aCVh4_ozTvga",
        "outputId": "65acb391-9bd8-4713-e0de-a5773a0ad302"
      },
      "source": [
        "model = Sequential()\n",
        "# Add an Embedding layer expecting input vocab of size 1000, and\n",
        "# output embedding dimension of size 64.\n",
        "model.add(Input(shape=(P,1)))\n",
        "\n",
        "# Add a simpleRNN layer with 5 internal units.\n",
        "model.add(LSTM(5,'relu'))\n",
        "# Add a Dense layer with 1 units.\n",
        "model.add(Dense(1))\n",
        "# \n",
        "model.summary()"
      ],
      "execution_count": null,
      "outputs": [
        {
          "output_type": "stream",
          "text": [
            "WARNING:tensorflow:Please add `keras.layers.InputLayer` instead of `keras.Input` to Sequential model. `keras.Input` is intended to be used by Functional model.\n",
            "WARNING:tensorflow:Layer lstm will not use cuDNN kernels since it doesn't meet the criteria. It will use a generic GPU kernel as fallback when running on GPU.\n",
            "Model: \"sequential\"\n",
            "_________________________________________________________________\n",
            "Layer (type)                 Output Shape              Param #   \n",
            "=================================================================\n",
            "lstm (LSTM)                  (None, 5)                 140       \n",
            "_________________________________________________________________\n",
            "dense (Dense)                (None, 1)                 6         \n",
            "=================================================================\n",
            "Total params: 146\n",
            "Trainable params: 146\n",
            "Non-trainable params: 0\n",
            "_________________________________________________________________\n"
          ],
          "name": "stdout"
        }
      ]
    },
    {
      "cell_type": "code",
      "metadata": {
        "id": "1FJ_6l9kEu8b"
      },
      "source": [
        ""
      ],
      "execution_count": null,
      "outputs": []
    },
    {
      "cell_type": "code",
      "metadata": {
        "colab": {
          "base_uri": "https://localhost:8080/"
        },
        "id": "VXMKsjrbXJCe",
        "outputId": "6af198b7-b963-42bf-bfc1-fed4fb44aa0a"
      },
      "source": [
        "model.compile(loss='mse',optimizer=Adam(lr=0.1))"
      ],
      "execution_count": null,
      "outputs": [
        {
          "output_type": "stream",
          "text": [
            "/usr/local/lib/python3.7/dist-packages/tensorflow/python/keras/optimizer_v2/optimizer_v2.py:375: UserWarning: The `lr` argument is deprecated, use `learning_rate` instead.\n",
            "  \"The `lr` argument is deprecated, use `learning_rate` instead.\")\n"
          ],
          "name": "stderr"
        }
      ]
    },
    {
      "cell_type": "code",
      "metadata": {
        "colab": {
          "base_uri": "https://localhost:8080/"
        },
        "id": "8fmK2AJFWixM",
        "outputId": "92db3757-9a59-4666-889a-30ddb3bf3a75"
      },
      "source": [
        "r = model.fit(X_train,Y_train,\n",
        "              epochs=100, \n",
        "              validation_data = ( X_test ,Y_test ) )"
      ],
      "execution_count": null,
      "outputs": [
        {
          "output_type": "stream",
          "text": [
            "Epoch 1/100\n",
            "3/3 [==============================] - 25s 451ms/step - loss: 5183.0878 - val_loss: 36955.3633\n",
            "Epoch 2/100\n",
            "3/3 [==============================] - 0s 35ms/step - loss: 7680.1055 - val_loss: 28182.0605\n",
            "Epoch 3/100\n",
            "3/3 [==============================] - 0s 42ms/step - loss: 6499.9716 - val_loss: 6116.4121\n",
            "Epoch 4/100\n",
            "3/3 [==============================] - 0s 41ms/step - loss: 1271.4072 - val_loss: 21813.6523\n",
            "Epoch 5/100\n",
            "3/3 [==============================] - 0s 40ms/step - loss: 3753.5092 - val_loss: 8352.2217\n",
            "Epoch 6/100\n",
            "3/3 [==============================] - 0s 39ms/step - loss: 970.7196 - val_loss: 7972.8535\n",
            "Epoch 7/100\n",
            "3/3 [==============================] - 0s 44ms/step - loss: 1972.8026 - val_loss: 9040.9385\n",
            "Epoch 8/100\n",
            "3/3 [==============================] - 0s 45ms/step - loss: 2063.9373 - val_loss: 6090.4639\n",
            "Epoch 9/100\n",
            "3/3 [==============================] - 0s 53ms/step - loss: 1075.7077 - val_loss: 7377.7725\n",
            "Epoch 10/100\n",
            "3/3 [==============================] - 0s 45ms/step - loss: 1063.2259 - val_loss: 8424.9980\n",
            "Epoch 11/100\n",
            "3/3 [==============================] - 0s 43ms/step - loss: 1000.7041 - val_loss: 5865.7979\n",
            "Epoch 12/100\n",
            "3/3 [==============================] - 0s 39ms/step - loss: 877.7240 - val_loss: 5871.8286\n",
            "Epoch 13/100\n",
            "3/3 [==============================] - 0s 40ms/step - loss: 1077.2736 - val_loss: 5753.5747\n",
            "Epoch 14/100\n",
            "3/3 [==============================] - 0s 41ms/step - loss: 912.6845 - val_loss: 6033.9980\n",
            "Epoch 15/100\n",
            "3/3 [==============================] - 0s 36ms/step - loss: 815.0363 - val_loss: 7122.0430\n",
            "Epoch 16/100\n",
            "3/3 [==============================] - 0s 46ms/step - loss: 941.9700 - val_loss: 7444.0708\n",
            "Epoch 17/100\n",
            "3/3 [==============================] - 0s 38ms/step - loss: 972.3429 - val_loss: 6554.3774\n",
            "Epoch 18/100\n",
            "3/3 [==============================] - 0s 44ms/step - loss: 836.8964 - val_loss: 5982.4907\n",
            "Epoch 19/100\n",
            "3/3 [==============================] - 0s 36ms/step - loss: 867.1992 - val_loss: 6239.8135\n",
            "Epoch 20/100\n",
            "3/3 [==============================] - 0s 41ms/step - loss: 882.8139 - val_loss: 6593.8496\n",
            "Epoch 21/100\n",
            "3/3 [==============================] - 0s 34ms/step - loss: 861.7922 - val_loss: 5828.1792\n",
            "Epoch 22/100\n",
            "3/3 [==============================] - 0s 36ms/step - loss: 822.9303 - val_loss: 5659.2627\n",
            "Epoch 23/100\n",
            "3/3 [==============================] - 0s 38ms/step - loss: 858.2260 - val_loss: 5874.9419\n",
            "Epoch 24/100\n",
            "3/3 [==============================] - 0s 36ms/step - loss: 808.2664 - val_loss: 8919.8770\n",
            "Epoch 25/100\n",
            "3/3 [==============================] - 0s 36ms/step - loss: 1333.3151 - val_loss: 8405.2178\n",
            "Epoch 26/100\n",
            "3/3 [==============================] - 0s 34ms/step - loss: 964.4198 - val_loss: 5638.6753\n",
            "Epoch 27/100\n",
            "3/3 [==============================] - 0s 37ms/step - loss: 1019.6390 - val_loss: 6088.5649\n",
            "Epoch 28/100\n",
            "3/3 [==============================] - 0s 38ms/step - loss: 1176.6434 - val_loss: 5659.1147\n",
            "Epoch 29/100\n",
            "3/3 [==============================] - 0s 37ms/step - loss: 788.4999 - val_loss: 7428.1943\n",
            "Epoch 30/100\n",
            "3/3 [==============================] - 0s 36ms/step - loss: 969.6063 - val_loss: 5822.8032\n",
            "Epoch 31/100\n",
            "3/3 [==============================] - 0s 38ms/step - loss: 800.9064 - val_loss: 5585.8564\n",
            "Epoch 32/100\n",
            "3/3 [==============================] - 0s 41ms/step - loss: 914.8687 - val_loss: 5660.3174\n",
            "Epoch 33/100\n",
            "3/3 [==============================] - 0s 42ms/step - loss: 842.0208 - val_loss: 5996.4575\n",
            "Epoch 34/100\n",
            "3/3 [==============================] - 0s 42ms/step - loss: 835.1422 - val_loss: 6956.0386\n",
            "Epoch 35/100\n",
            "3/3 [==============================] - 0s 38ms/step - loss: 966.6174 - val_loss: 8270.6475\n",
            "Epoch 36/100\n",
            "3/3 [==============================] - 0s 37ms/step - loss: 970.8567 - val_loss: 6179.4165\n",
            "Epoch 37/100\n",
            "3/3 [==============================] - 0s 45ms/step - loss: 828.2832 - val_loss: 5783.9990\n",
            "Epoch 38/100\n",
            "3/3 [==============================] - 0s 41ms/step - loss: 1090.7601 - val_loss: 5763.3462\n",
            "Epoch 39/100\n",
            "3/3 [==============================] - 0s 34ms/step - loss: 1139.5279 - val_loss: 5609.9951\n",
            "Epoch 40/100\n",
            "3/3 [==============================] - 0s 41ms/step - loss: 824.2385 - val_loss: 6317.6392\n",
            "Epoch 41/100\n",
            "3/3 [==============================] - 0s 55ms/step - loss: 880.1470 - val_loss: 7051.9658\n",
            "Epoch 42/100\n",
            "3/3 [==============================] - 0s 46ms/step - loss: 843.9644 - val_loss: 5996.7949\n",
            "Epoch 43/100\n",
            "3/3 [==============================] - 0s 43ms/step - loss: 834.4865 - val_loss: 5732.0098\n",
            "Epoch 44/100\n",
            "3/3 [==============================] - 0s 38ms/step - loss: 764.6985 - val_loss: 5490.7759\n",
            "Epoch 45/100\n",
            "3/3 [==============================] - 0s 44ms/step - loss: 837.6809 - val_loss: 5530.3618\n",
            "Epoch 46/100\n",
            "3/3 [==============================] - 0s 40ms/step - loss: 848.8840 - val_loss: 6339.3516\n",
            "Epoch 47/100\n",
            "3/3 [==============================] - 0s 35ms/step - loss: 826.0957 - val_loss: 5480.1455\n",
            "Epoch 48/100\n",
            "3/3 [==============================] - 0s 38ms/step - loss: 906.5139 - val_loss: 5788.8286\n",
            "Epoch 49/100\n",
            "3/3 [==============================] - 0s 42ms/step - loss: 1110.0127 - val_loss: 5515.4644\n",
            "Epoch 50/100\n",
            "3/3 [==============================] - 0s 41ms/step - loss: 782.9931 - val_loss: 7836.9404\n",
            "Epoch 51/100\n",
            "3/3 [==============================] - 0s 45ms/step - loss: 999.3279 - val_loss: 6625.8501\n",
            "Epoch 52/100\n",
            "3/3 [==============================] - 0s 41ms/step - loss: 873.4120 - val_loss: 5451.0273\n",
            "Epoch 53/100\n",
            "3/3 [==============================] - 0s 45ms/step - loss: 869.3923 - val_loss: 5496.0254\n",
            "Epoch 54/100\n",
            "3/3 [==============================] - 0s 46ms/step - loss: 772.9596 - val_loss: 6150.3989\n",
            "Epoch 55/100\n",
            "3/3 [==============================] - 0s 43ms/step - loss: 801.5752 - val_loss: 6081.8589\n",
            "Epoch 56/100\n",
            "3/3 [==============================] - 0s 37ms/step - loss: 778.1772 - val_loss: 6783.9116\n",
            "Epoch 57/100\n",
            "3/3 [==============================] - 0s 37ms/step - loss: 869.8069 - val_loss: 7253.1357\n",
            "Epoch 58/100\n",
            "3/3 [==============================] - 0s 37ms/step - loss: 1019.6350 - val_loss: 5826.5884\n",
            "Epoch 59/100\n",
            "3/3 [==============================] - 0s 44ms/step - loss: 812.5404 - val_loss: 5422.3892\n",
            "Epoch 60/100\n",
            "3/3 [==============================] - 0s 41ms/step - loss: 825.2086 - val_loss: 5513.0869\n",
            "Epoch 61/100\n",
            "3/3 [==============================] - 0s 45ms/step - loss: 827.9416 - val_loss: 6439.0200\n",
            "Epoch 62/100\n",
            "3/3 [==============================] - 0s 44ms/step - loss: 841.1168 - val_loss: 6758.8057\n",
            "Epoch 63/100\n",
            "3/3 [==============================] - 0s 45ms/step - loss: 915.7505 - val_loss: 5500.4121\n",
            "Epoch 64/100\n",
            "3/3 [==============================] - 0s 37ms/step - loss: 822.4504 - val_loss: 5352.4570\n",
            "Epoch 65/100\n",
            "3/3 [==============================] - 0s 38ms/step - loss: 873.2993 - val_loss: 5889.7593\n",
            "Epoch 66/100\n",
            "3/3 [==============================] - 0s 36ms/step - loss: 762.4166 - val_loss: 6109.9019\n",
            "Epoch 67/100\n",
            "3/3 [==============================] - 0s 45ms/step - loss: 794.0654 - val_loss: 5297.9175\n",
            "Epoch 68/100\n",
            "3/3 [==============================] - 0s 44ms/step - loss: 935.1382 - val_loss: 5374.0498\n",
            "Epoch 69/100\n",
            "3/3 [==============================] - 0s 37ms/step - loss: 900.3633 - val_loss: 6068.3091\n",
            "Epoch 70/100\n",
            "3/3 [==============================] - 0s 49ms/step - loss: 954.4642 - val_loss: 9552.8672\n",
            "Epoch 71/100\n",
            "3/3 [==============================] - 0s 35ms/step - loss: 1271.8734 - val_loss: 5489.8760\n",
            "Epoch 72/100\n",
            "3/3 [==============================] - 0s 34ms/step - loss: 793.9796 - val_loss: 5445.9180\n",
            "Epoch 73/100\n",
            "3/3 [==============================] - 0s 43ms/step - loss: 1140.5479 - val_loss: 5188.6885\n",
            "Epoch 74/100\n",
            "3/3 [==============================] - 0s 42ms/step - loss: 721.8090 - val_loss: 7670.5293\n",
            "Epoch 75/100\n",
            "3/3 [==============================] - 0s 44ms/step - loss: 1092.8756 - val_loss: 6475.6016\n",
            "Epoch 76/100\n",
            "3/3 [==============================] - 0s 43ms/step - loss: 924.6403 - val_loss: 4865.3594\n",
            "Epoch 77/100\n",
            "3/3 [==============================] - 0s 42ms/step - loss: 890.4482 - val_loss: 4869.5112\n",
            "Epoch 78/100\n",
            "3/3 [==============================] - 0s 44ms/step - loss: 743.0623 - val_loss: 7047.7793\n",
            "Epoch 79/100\n",
            "3/3 [==============================] - 0s 41ms/step - loss: 989.7614 - val_loss: 6675.9941\n",
            "Epoch 80/100\n",
            "3/3 [==============================] - 0s 35ms/step - loss: 810.5367 - val_loss: 4715.0117\n",
            "Epoch 81/100\n",
            "3/3 [==============================] - 0s 45ms/step - loss: 1046.7620 - val_loss: 5240.2266\n",
            "Epoch 82/100\n",
            "3/3 [==============================] - 0s 36ms/step - loss: 1245.4386 - val_loss: 4755.1821\n",
            "Epoch 83/100\n",
            "3/3 [==============================] - 0s 44ms/step - loss: 829.1779 - val_loss: 7675.3955\n",
            "Epoch 84/100\n",
            "3/3 [==============================] - 0s 46ms/step - loss: 996.9024 - val_loss: 5140.9263\n",
            "Epoch 85/100\n",
            "3/3 [==============================] - 0s 37ms/step - loss: 760.6243 - val_loss: 4640.1816\n",
            "Epoch 86/100\n",
            "3/3 [==============================] - 0s 46ms/step - loss: 1063.5795 - val_loss: 4227.5029\n",
            "Epoch 87/100\n",
            "3/3 [==============================] - 0s 44ms/step - loss: 766.2862 - val_loss: 6232.8862\n",
            "Epoch 88/100\n",
            "3/3 [==============================] - 0s 38ms/step - loss: 1008.0836 - val_loss: 8927.9238\n",
            "Epoch 89/100\n",
            "3/3 [==============================] - 0s 35ms/step - loss: 1242.9488 - val_loss: 5091.7134\n",
            "Epoch 90/100\n",
            "3/3 [==============================] - 0s 34ms/step - loss: 683.1999 - val_loss: 4097.4424\n",
            "Epoch 91/100\n",
            "3/3 [==============================] - 0s 38ms/step - loss: 774.0445 - val_loss: 4069.7761\n",
            "Epoch 92/100\n",
            "3/3 [==============================] - 0s 40ms/step - loss: 715.8157 - val_loss: 4640.9736\n",
            "Epoch 93/100\n",
            "3/3 [==============================] - 0s 37ms/step - loss: 640.1219 - val_loss: 6122.3086\n",
            "Epoch 94/100\n",
            "3/3 [==============================] - 0s 39ms/step - loss: 782.7368 - val_loss: 5114.3320\n",
            "Epoch 95/100\n",
            "3/3 [==============================] - 0s 36ms/step - loss: 667.5222 - val_loss: 3959.2141\n",
            "Epoch 96/100\n",
            "3/3 [==============================] - 0s 38ms/step - loss: 806.2435 - val_loss: 3813.6506\n",
            "Epoch 97/100\n",
            "3/3 [==============================] - 0s 53ms/step - loss: 691.0844 - val_loss: 4389.1079\n",
            "Epoch 98/100\n",
            "3/3 [==============================] - 0s 44ms/step - loss: 670.2081 - val_loss: 4899.7402\n",
            "Epoch 99/100\n",
            "3/3 [==============================] - 0s 45ms/step - loss: 709.1915 - val_loss: 4484.8325\n",
            "Epoch 100/100\n",
            "3/3 [==============================] - 0s 44ms/step - loss: 713.2511 - val_loss: 4173.1738\n"
          ],
          "name": "stdout"
        }
      ]
    },
    {
      "cell_type": "code",
      "metadata": {
        "colab": {
          "base_uri": "https://localhost:8080/",
          "height": 283
        },
        "id": "U2SXEV-5Z7Sq",
        "outputId": "e066d1f3-2ff2-46f1-b169-7ecfe78d1e2b"
      },
      "source": [
        "plt.plot(r.history['loss'],label='loss')\n",
        "plt.plot(r.history['val_loss'],label='val_loss')\n",
        "plt.legend()"
      ],
      "execution_count": null,
      "outputs": [
        {
          "output_type": "execute_result",
          "data": {
            "text/plain": [
              "<matplotlib.legend.Legend at 0x7efc1022ddd0>"
            ]
          },
          "metadata": {
            "tags": []
          },
          "execution_count": 13
        },
        {
          "output_type": "display_data",
          "data": {
            "image/png": "[encoded data removed]",
            "text/plain": [
              "<Figure size 432x288 with 1 Axes>"
            ]
          },
          "metadata": {
            "tags": [],
            "needs_background": "light"
          }
        }
      ]
    },
    {
      "cell_type": "code",
      "metadata": {
        "id": "2gHp7iLwa0lG",
        "colab": {
          "base_uri": "https://localhost:8080/",
          "height": 283
        },
        "outputId": "3de09870-d186-49f2-89b9-40412a1f7aa0"
      },
      "source": [
        "# this is a wrong way to do....\n",
        "pred_Y = model.predict(X_test)\n",
        "plt.plot(Y_test, label='prediction target')\n",
        "plt.plot(pred_Y, label='prediction forecast')"
      ],
      "execution_count": null,
      "outputs": [
        {
          "output_type": "execute_result",
          "data": {
            "text/plain": [
              "[<matplotlib.lines.Line2D at 0x7efbd79cd650>]"
            ]
          },
          "metadata": {
            "tags": []
          },
          "execution_count": 14
        },
        {
          "output_type": "display_data",
          "data": {
            "image/png": "[encoded data removed]",
            "text/plain": [
              "<Figure size 432x288 with 1 Axes>"
            ]
          },
          "metadata": {
            "tags": [],
            "needs_background": "light"
          }
        }
      ]
    },
    {
      "cell_type": "code",
      "metadata": {
        "id": "IQHyC5xnbKHn"
      },
      "source": [
        "pred_test = []\n",
        "for xi in X_test:\n",
        "  yi = model.predict(xi.reshape(1,-1,1))[0,0]\n",
        "  pred_test.append(yi)"
      ],
      "execution_count": null,
      "outputs": []
    },
    {
      "cell_type": "code",
      "metadata": {
        "colab": {
          "base_uri": "https://localhost:8080/",
          "height": 283
        },
        "id": "1BAOvmGnpStZ",
        "outputId": "83b1301e-cff0-43a6-9bbb-97d56080b59e"
      },
      "source": [
        "plt.plot(Y_test, label='prediction target')\n",
        "plt.plot(pred_test, label='prediction forecast')"
      ],
      "execution_count": null,
      "outputs": [
        {
          "output_type": "execute_result",
          "data": {
            "text/plain": [
              "[<matplotlib.lines.Line2D at 0x7efbd79de650>]"
            ]
          },
          "metadata": {
            "tags": []
          },
          "execution_count": 16
        },
        {
          "output_type": "display_data",
          "data": {
            "image/png": "[encoded data removed]",
            "text/plain": [
              "<Figure size 432x288 with 1 Axes>"
            ]
          },
          "metadata": {
            "tags": [],
            "needs_background": "light"
          }
        }
      ]
    },
    {
      "cell_type": "code",
      "metadata": {
        "id": "ILdLWpK8q1oo",
        "colab": {
          "base_uri": "https://localhost:8080/"
        },
        "outputId": "161e91c6-1dee-4208-f5a9-2c5708a4893b"
      },
      "source": [
        "a,b = model.layers[1].get_weights()\n",
        "print(a.shape,b.shape)"
      ],
      "execution_count": null,
      "outputs": [
        {
          "output_type": "stream",
          "text": [
            "(5, 1) (1,)\n"
          ],
          "name": "stdout"
        }
      ]
    },
    {
      "cell_type": "code",
      "metadata": {
        "colab": {
          "base_uri": "https://localhost:8080/"
        },
        "id": "BjW7xc8bctXI",
        "outputId": "09cd8f37-0873-4264-93e9-25529b0b0edb"
      },
      "source": [
        "print(a)\n",
        "print('===============')\n",
        "print(b)"
      ],
      "execution_count": null,
      "outputs": [
        {
          "output_type": "stream",
          "text": [
            "[[ 1.1393764 ]\n",
            " [-0.756248  ]\n",
            " [ 0.09985399]\n",
            " [-0.23739646]\n",
            " [ 0.16416216]]\n",
            "===============\n",
            "[2.5598724]\n"
          ],
          "name": "stdout"
        }
      ]
    }
  ]
}