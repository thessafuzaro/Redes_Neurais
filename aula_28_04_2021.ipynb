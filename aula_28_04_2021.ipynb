{
  "nbformat": 4,
  "nbformat_minor": 0,
  "metadata": {
    "colab": {
      "name": "aula_28_04_2021.ipynb",
      "provenance": [],
      "authorship_tag": "ABX9TyPgDFEMKIXH10bMr7yTqe9J",
      "include_colab_link": true
    },
    "kernelspec": {
      "name": "python3",
      "display_name": "Python 3"
    },
    "language_info": {
      "name": "python"
    }
  },
  "cells": [
    {
      "cell_type": "markdown",
      "metadata": {
        "id": "view-in-github",
        "colab_type": "text"
      },
      "source": [
        "<a href=\"https://colab.research.google.com/github/thessafuzaro/Redes_Neurais/blob/main/aula_28_04_2021.ipynb\" target=\"_parent\"><img src=\"https://colab.research.google.com/assets/colab-badge.svg\" alt=\"Open In Colab\"/></a>"
      ]
    },
    {
      "cell_type": "code",
      "metadata": {
        "id": "h47ebxsLadOm"
      },
      "source": [
        "import numpy as np\n",
        "import pandas as pd"
      ],
      "execution_count": 21,
      "outputs": []
    },
    {
      "cell_type": "code",
      "metadata": {
        "id": "w05xrfM3ajoh"
      },
      "source": [
        "x=[1,2,3,4,5]\n",
        "y=[2,3,6,8,9]\n",
        "Lista = [x,y]\n",
        "Vetor=np.array(Lista)\n",
        "dataframe = pd.DataFrame({'x':x,'y':y})\n",
        "#x_array=np.array(x)\n",
        "x_array=np.array(x).reshape(-1,1)"
      ],
      "execution_count": 22,
      "outputs": []
    },
    {
      "cell_type": "code",
      "metadata": {
        "colab": {
          "base_uri": "https://localhost:8080/"
        },
        "id": "rnsAz-tEatbW",
        "outputId": "e40a4627-ce08-4a5a-d6b5-59fc0698fe1a"
      },
      "source": [
        "print(x)\n",
        "print(y)\n",
        "print(Lista)\n",
        "print(Vetor)\n",
        "print(dataframe)\n",
        "print(x_array)"
      ],
      "execution_count": 23,
      "outputs": [
        {
          "output_type": "stream",
          "text": [
            "[1, 2, 3, 4, 5]\n",
            "[2, 3, 6, 8, 9]\n",
            "[[1, 2, 3, 4, 5], [2, 3, 6, 8, 9]]\n",
            "[[1 2 3 4 5]\n",
            " [2 3 6 8 9]]\n",
            "   x  y\n",
            "0  1  2\n",
            "1  2  3\n",
            "2  3  6\n",
            "3  4  8\n",
            "4  5  9\n",
            "[[1]\n",
            " [2]\n",
            " [3]\n",
            " [4]\n",
            " [5]]\n"
          ],
          "name": "stdout"
        }
      ]
    },
    {
      "cell_type": "code",
      "metadata": {
        "colab": {
          "base_uri": "https://localhost:8080/"
        },
        "id": "tR0YDeT1is4P",
        "outputId": "ae573d97-2573-49a6-b22c-452f452cc9e7"
      },
      "source": [
        "N=[8,9,10,11,12]\n",
        "M=[8,9,10,11,12]\n",
        "for i in range(2,N): #desse jeito ele começa do zero (N) e se entrar com o valor ele começa de onde vc escolhe (2,N)\n",
        "  for j in range(2,M):\n",
        "    print('i=',i,'j=',j)"
      ],
      "execution_count": 24,
      "outputs": [
        {
          "output_type": "stream",
          "text": [
            "i= 0 j= 0\n",
            "i= 0 j= 1\n",
            "i= 0 j= 2\n",
            "i= 1 j= 0\n",
            "i= 1 j= 1\n",
            "i= 1 j= 2\n",
            "i= 2 j= 0\n",
            "i= 2 j= 1\n",
            "i= 2 j= 2\n",
            "i= 3 j= 0\n",
            "i= 3 j= 1\n",
            "i= 3 j= 2\n"
          ],
          "name": "stdout"
        }
      ]
    }
  ]
}