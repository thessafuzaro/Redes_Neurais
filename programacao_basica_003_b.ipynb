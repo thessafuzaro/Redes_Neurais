{
  "nbformat": 4,
  "nbformat_minor": 0,
  "metadata": {
    "colab": {
      "name": "programacao_basica_003.ipynb",
      "provenance": [],
      "collapsed_sections": [],
      "authorship_tag": "ABX9TyPJrfUZvZ6BBWYzI0Q4tI1v",
      "include_colab_link": true
    },
    "kernelspec": {
      "name": "python3",
      "display_name": "Python 3"
    },
    "language_info": {
      "name": "python"
    }
  },
  "cells": [
    {
      "cell_type": "markdown",
      "metadata": {
        "id": "view-in-github",
        "colab_type": "text"
      },
      "source": [
        "<a href=\"https://colab.research.google.com/github/thessafuzaro/Redes_Neurais/blob/main/programacao_basica_003_b.ipynb\" target=\"_parent\"><img src=\"https://colab.research.google.com/assets/colab-badge.svg\" alt=\"Open In Colab\"/></a>"
      ]
    },
    {
      "cell_type": "code",
      "metadata": {
        "id": "VCfwdIRnZFdI"
      },
      "source": [
        "import numpy as np\n",
        "from Volume import Vol"
      ],
      "execution_count": null,
      "outputs": []
    },
    {
      "cell_type": "code",
      "metadata": {
        "id": "mFLAKjnIbhDP"
      },
      "source": [
        "!git clone https://github.com/thessafuzaro/Redes_Neurais/PROGRAMACAO_BASICA\n",
        "%cd Programacao_basica"
      ],
      "execution_count": null,
      "outputs": []
    },
    {
      "cell_type": "code",
      "metadata": {
        "id": "7PEuv06AcMuC"
      },
      "source": [
        "from Volume import Vol"
      ],
      "execution_count": null,
      "outputs": []
    },
    {
      "cell_type": "code",
      "metadata": {
        "colab": {
          "base_uri": "https://localhost:8080/"
        },
        "id": "GKSyCP2PY6Yr",
        "outputId": "42501c3a-5dd3-4b41-b678-bba80408b82f"
      },
      "source": [
        "Diam = [2,4,6,8,10]\n",
        "Volume = Vol(Diam)\n",
        "print(Volume)"
      ],
      "execution_count": null,
      "outputs": [
        {
          "output_type": "stream",
          "text": [
            "[6.283185307179586]\n"
          ],
          "name": "stdout"
        }
      ]
    }
  ]
}